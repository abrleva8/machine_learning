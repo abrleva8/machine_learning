{
 "nbformat": 4,
 "nbformat_minor": 0,
 "metadata": {
  "kernelspec": {
   "display_name": "Python 3",
   "language": "python",
   "name": "python3"
  },
  "language_info": {
   "codemirror_mode": {
    "name": "ipython",
    "version": 3
   },
   "file_extension": ".py",
   "mimetype": "text/x-python",
   "name": "python",
   "nbconvert_exporter": "python",
   "pygments_lexer": "ipython3",
   "version": "3.7.0"
  },
  "colab": {
   "provenance": []
  }
 },
 "cells": [
  {
   "cell_type": "code",
   "metadata": {
    "id": "f_k1fH9aBEci",
    "ExecuteTime": {
     "end_time": "2024-10-08T10:22:23.158566Z",
     "start_time": "2024-10-08T10:22:22.761943Z"
    }
   },
   "source": [
    "# import the libraries\n",
    "import matplotlib.pyplot as plt\n",
    "import seaborn as sns\n",
    "import pandas as pd\n",
    "import numpy as np\n",
    "from sklearn.model_selection import train_test_split\n",
    "from sklearn.metrics import accuracy_score\n",
    "from sklearn.linear_model import LogisticRegression\n",
    "from sklearn import metrics as m\n",
    "from sklearn.metrics import roc_auc_score, roc_curve\n",
    "from sklearn.preprocessing import StandardScaler\n",
    "from sklearn.metrics import precision_recall_curve"
   ],
   "outputs": [],
   "execution_count": 1
  },
  {
   "cell_type": "code",
   "metadata": {
    "id": "DaSI5HVMBEcm",
    "colab": {
     "base_uri": "https://localhost:8080/"
    },
    "outputId": "e823a178-a05a-4d3b-f2b6-0aac29126f95",
    "ExecuteTime": {
     "end_time": "2024-10-08T10:22:23.170125Z",
     "start_time": "2024-10-08T10:22:23.162296Z"
    }
   },
   "source": [
    "# # load data\n",
    "# from google.colab import drive\n",
    "# drive.mount('/content/drive/')\n"
   ],
   "outputs": [],
   "execution_count": 2
  },
  {
   "cell_type": "code",
   "metadata": {
    "id": "AfO2W-pZMsOH",
    "colab": {
     "base_uri": "https://localhost:8080/",
     "height": 467
    },
    "outputId": "a8936418-72bd-4bd7-cc88-8a5bc249ecff",
    "ExecuteTime": {
     "end_time": "2024-10-08T10:22:23.300745Z",
     "start_time": "2024-10-08T10:22:23.173372Z"
    }
   },
   "source": [
    "df = pd.read_csv(\"bank.csv\")\n",
    "df"
   ],
   "outputs": [
    {
     "data": {
      "text/plain": [
       "       age          job  marital  education default  balance housing loan  \\\n",
       "0       59       admin.  married  secondary      no     2343     yes   no   \n",
       "1       56       admin.  married  secondary      no       45      no   no   \n",
       "2       41   technician  married  secondary      no     1270     yes   no   \n",
       "3       55     services  married  secondary      no     2476     yes   no   \n",
       "4       54       admin.  married   tertiary      no      184      no   no   \n",
       "...    ...          ...      ...        ...     ...      ...     ...  ...   \n",
       "11157   33  blue-collar   single    primary      no        1     yes   no   \n",
       "11158   39     services  married  secondary      no      733      no   no   \n",
       "11159   32   technician   single  secondary      no       29      no   no   \n",
       "11160   43   technician  married  secondary      no        0      no  yes   \n",
       "11161   34   technician  married  secondary      no        0      no   no   \n",
       "\n",
       "        contact  day month  duration  campaign  pdays  previous poutcome  \\\n",
       "0       unknown    5   may      1042         1     -1         0  unknown   \n",
       "1       unknown    5   may      1467         1     -1         0  unknown   \n",
       "2       unknown    5   may      1389         1     -1         0  unknown   \n",
       "3       unknown    5   may       579         1     -1         0  unknown   \n",
       "4       unknown    5   may       673         2     -1         0  unknown   \n",
       "...         ...  ...   ...       ...       ...    ...       ...      ...   \n",
       "11157  cellular   20   apr       257         1     -1         0  unknown   \n",
       "11158   unknown   16   jun        83         4     -1         0  unknown   \n",
       "11159  cellular   19   aug       156         2     -1         0  unknown   \n",
       "11160  cellular    8   may         9         2    172         5  failure   \n",
       "11161  cellular    9   jul       628         1     -1         0  unknown   \n",
       "\n",
       "      deposit  \n",
       "0         yes  \n",
       "1         yes  \n",
       "2         yes  \n",
       "3         yes  \n",
       "4         yes  \n",
       "...       ...  \n",
       "11157      no  \n",
       "11158      no  \n",
       "11159      no  \n",
       "11160      no  \n",
       "11161      no  \n",
       "\n",
       "[11162 rows x 17 columns]"
      ],
      "text/html": [
       "<div>\n",
       "<style scoped>\n",
       "    .dataframe tbody tr th:only-of-type {\n",
       "        vertical-align: middle;\n",
       "    }\n",
       "\n",
       "    .dataframe tbody tr th {\n",
       "        vertical-align: top;\n",
       "    }\n",
       "\n",
       "    .dataframe thead th {\n",
       "        text-align: right;\n",
       "    }\n",
       "</style>\n",
       "<table border=\"1\" class=\"dataframe\">\n",
       "  <thead>\n",
       "    <tr style=\"text-align: right;\">\n",
       "      <th></th>\n",
       "      <th>age</th>\n",
       "      <th>job</th>\n",
       "      <th>marital</th>\n",
       "      <th>education</th>\n",
       "      <th>default</th>\n",
       "      <th>balance</th>\n",
       "      <th>housing</th>\n",
       "      <th>loan</th>\n",
       "      <th>contact</th>\n",
       "      <th>day</th>\n",
       "      <th>month</th>\n",
       "      <th>duration</th>\n",
       "      <th>campaign</th>\n",
       "      <th>pdays</th>\n",
       "      <th>previous</th>\n",
       "      <th>poutcome</th>\n",
       "      <th>deposit</th>\n",
       "    </tr>\n",
       "  </thead>\n",
       "  <tbody>\n",
       "    <tr>\n",
       "      <th>0</th>\n",
       "      <td>59</td>\n",
       "      <td>admin.</td>\n",
       "      <td>married</td>\n",
       "      <td>secondary</td>\n",
       "      <td>no</td>\n",
       "      <td>2343</td>\n",
       "      <td>yes</td>\n",
       "      <td>no</td>\n",
       "      <td>unknown</td>\n",
       "      <td>5</td>\n",
       "      <td>may</td>\n",
       "      <td>1042</td>\n",
       "      <td>1</td>\n",
       "      <td>-1</td>\n",
       "      <td>0</td>\n",
       "      <td>unknown</td>\n",
       "      <td>yes</td>\n",
       "    </tr>\n",
       "    <tr>\n",
       "      <th>1</th>\n",
       "      <td>56</td>\n",
       "      <td>admin.</td>\n",
       "      <td>married</td>\n",
       "      <td>secondary</td>\n",
       "      <td>no</td>\n",
       "      <td>45</td>\n",
       "      <td>no</td>\n",
       "      <td>no</td>\n",
       "      <td>unknown</td>\n",
       "      <td>5</td>\n",
       "      <td>may</td>\n",
       "      <td>1467</td>\n",
       "      <td>1</td>\n",
       "      <td>-1</td>\n",
       "      <td>0</td>\n",
       "      <td>unknown</td>\n",
       "      <td>yes</td>\n",
       "    </tr>\n",
       "    <tr>\n",
       "      <th>2</th>\n",
       "      <td>41</td>\n",
       "      <td>technician</td>\n",
       "      <td>married</td>\n",
       "      <td>secondary</td>\n",
       "      <td>no</td>\n",
       "      <td>1270</td>\n",
       "      <td>yes</td>\n",
       "      <td>no</td>\n",
       "      <td>unknown</td>\n",
       "      <td>5</td>\n",
       "      <td>may</td>\n",
       "      <td>1389</td>\n",
       "      <td>1</td>\n",
       "      <td>-1</td>\n",
       "      <td>0</td>\n",
       "      <td>unknown</td>\n",
       "      <td>yes</td>\n",
       "    </tr>\n",
       "    <tr>\n",
       "      <th>3</th>\n",
       "      <td>55</td>\n",
       "      <td>services</td>\n",
       "      <td>married</td>\n",
       "      <td>secondary</td>\n",
       "      <td>no</td>\n",
       "      <td>2476</td>\n",
       "      <td>yes</td>\n",
       "      <td>no</td>\n",
       "      <td>unknown</td>\n",
       "      <td>5</td>\n",
       "      <td>may</td>\n",
       "      <td>579</td>\n",
       "      <td>1</td>\n",
       "      <td>-1</td>\n",
       "      <td>0</td>\n",
       "      <td>unknown</td>\n",
       "      <td>yes</td>\n",
       "    </tr>\n",
       "    <tr>\n",
       "      <th>4</th>\n",
       "      <td>54</td>\n",
       "      <td>admin.</td>\n",
       "      <td>married</td>\n",
       "      <td>tertiary</td>\n",
       "      <td>no</td>\n",
       "      <td>184</td>\n",
       "      <td>no</td>\n",
       "      <td>no</td>\n",
       "      <td>unknown</td>\n",
       "      <td>5</td>\n",
       "      <td>may</td>\n",
       "      <td>673</td>\n",
       "      <td>2</td>\n",
       "      <td>-1</td>\n",
       "      <td>0</td>\n",
       "      <td>unknown</td>\n",
       "      <td>yes</td>\n",
       "    </tr>\n",
       "    <tr>\n",
       "      <th>...</th>\n",
       "      <td>...</td>\n",
       "      <td>...</td>\n",
       "      <td>...</td>\n",
       "      <td>...</td>\n",
       "      <td>...</td>\n",
       "      <td>...</td>\n",
       "      <td>...</td>\n",
       "      <td>...</td>\n",
       "      <td>...</td>\n",
       "      <td>...</td>\n",
       "      <td>...</td>\n",
       "      <td>...</td>\n",
       "      <td>...</td>\n",
       "      <td>...</td>\n",
       "      <td>...</td>\n",
       "      <td>...</td>\n",
       "      <td>...</td>\n",
       "    </tr>\n",
       "    <tr>\n",
       "      <th>11157</th>\n",
       "      <td>33</td>\n",
       "      <td>blue-collar</td>\n",
       "      <td>single</td>\n",
       "      <td>primary</td>\n",
       "      <td>no</td>\n",
       "      <td>1</td>\n",
       "      <td>yes</td>\n",
       "      <td>no</td>\n",
       "      <td>cellular</td>\n",
       "      <td>20</td>\n",
       "      <td>apr</td>\n",
       "      <td>257</td>\n",
       "      <td>1</td>\n",
       "      <td>-1</td>\n",
       "      <td>0</td>\n",
       "      <td>unknown</td>\n",
       "      <td>no</td>\n",
       "    </tr>\n",
       "    <tr>\n",
       "      <th>11158</th>\n",
       "      <td>39</td>\n",
       "      <td>services</td>\n",
       "      <td>married</td>\n",
       "      <td>secondary</td>\n",
       "      <td>no</td>\n",
       "      <td>733</td>\n",
       "      <td>no</td>\n",
       "      <td>no</td>\n",
       "      <td>unknown</td>\n",
       "      <td>16</td>\n",
       "      <td>jun</td>\n",
       "      <td>83</td>\n",
       "      <td>4</td>\n",
       "      <td>-1</td>\n",
       "      <td>0</td>\n",
       "      <td>unknown</td>\n",
       "      <td>no</td>\n",
       "    </tr>\n",
       "    <tr>\n",
       "      <th>11159</th>\n",
       "      <td>32</td>\n",
       "      <td>technician</td>\n",
       "      <td>single</td>\n",
       "      <td>secondary</td>\n",
       "      <td>no</td>\n",
       "      <td>29</td>\n",
       "      <td>no</td>\n",
       "      <td>no</td>\n",
       "      <td>cellular</td>\n",
       "      <td>19</td>\n",
       "      <td>aug</td>\n",
       "      <td>156</td>\n",
       "      <td>2</td>\n",
       "      <td>-1</td>\n",
       "      <td>0</td>\n",
       "      <td>unknown</td>\n",
       "      <td>no</td>\n",
       "    </tr>\n",
       "    <tr>\n",
       "      <th>11160</th>\n",
       "      <td>43</td>\n",
       "      <td>technician</td>\n",
       "      <td>married</td>\n",
       "      <td>secondary</td>\n",
       "      <td>no</td>\n",
       "      <td>0</td>\n",
       "      <td>no</td>\n",
       "      <td>yes</td>\n",
       "      <td>cellular</td>\n",
       "      <td>8</td>\n",
       "      <td>may</td>\n",
       "      <td>9</td>\n",
       "      <td>2</td>\n",
       "      <td>172</td>\n",
       "      <td>5</td>\n",
       "      <td>failure</td>\n",
       "      <td>no</td>\n",
       "    </tr>\n",
       "    <tr>\n",
       "      <th>11161</th>\n",
       "      <td>34</td>\n",
       "      <td>technician</td>\n",
       "      <td>married</td>\n",
       "      <td>secondary</td>\n",
       "      <td>no</td>\n",
       "      <td>0</td>\n",
       "      <td>no</td>\n",
       "      <td>no</td>\n",
       "      <td>cellular</td>\n",
       "      <td>9</td>\n",
       "      <td>jul</td>\n",
       "      <td>628</td>\n",
       "      <td>1</td>\n",
       "      <td>-1</td>\n",
       "      <td>0</td>\n",
       "      <td>unknown</td>\n",
       "      <td>no</td>\n",
       "    </tr>\n",
       "  </tbody>\n",
       "</table>\n",
       "<p>11162 rows × 17 columns</p>\n",
       "</div>"
      ]
     },
     "execution_count": 3,
     "metadata": {},
     "output_type": "execute_result"
    }
   ],
   "execution_count": 3
  },
  {
   "cell_type": "code",
   "metadata": {
    "id": "AHM1oM4FBEcq",
    "ExecuteTime": {
     "end_time": "2024-10-08T10:22:23.327614Z",
     "start_time": "2024-10-08T10:22:23.303972Z"
    }
   },
   "source": [
    "# choosing target variable\n",
    "df.deposit = df.deposit.astype(str)\n",
    "df.replace({'deposit': {'yes': 1, 'no': 0}}, inplace=True)\n",
    "y = df['deposit'].values\n",
    "\n",
    "# choosing numeric features\n",
    "df_log_reg = df[['age','balance','day','duration','campaign','pdays','previous']]\n",
    "\n",
    "\n"
   ],
   "outputs": [
    {
     "name": "stderr",
     "output_type": "stream",
     "text": [
      "C:\\Users\\Ilia\\AppData\\Local\\Temp\\ipykernel_11436\\3702095095.py:3: FutureWarning: Downcasting behavior in `replace` is deprecated and will be removed in a future version. To retain the old behavior, explicitly call `result.infer_objects(copy=False)`. To opt-in to the future behavior, set `pd.set_option('future.no_silent_downcasting', True)`\n",
      "  df.replace({'deposit': {'yes': 1, 'no': 0}}, inplace=True)\n"
     ]
    }
   ],
   "execution_count": 4
  },
  {
   "cell_type": "code",
   "source": [
    "df_log_reg"
   ],
   "metadata": {
    "colab": {
     "base_uri": "https://localhost:8080/",
     "height": 423
    },
    "id": "AnPyRHQTEfEl",
    "outputId": "940161ac-3773-4799-c8b7-88716d237765",
    "ExecuteTime": {
     "end_time": "2024-10-08T10:22:23.357795Z",
     "start_time": "2024-10-08T10:22:23.332169Z"
    }
   },
   "outputs": [
    {
     "data": {
      "text/plain": [
       "       age  balance  day  duration  campaign  pdays  previous\n",
       "0       59     2343    5      1042         1     -1         0\n",
       "1       56       45    5      1467         1     -1         0\n",
       "2       41     1270    5      1389         1     -1         0\n",
       "3       55     2476    5       579         1     -1         0\n",
       "4       54      184    5       673         2     -1         0\n",
       "...    ...      ...  ...       ...       ...    ...       ...\n",
       "11157   33        1   20       257         1     -1         0\n",
       "11158   39      733   16        83         4     -1         0\n",
       "11159   32       29   19       156         2     -1         0\n",
       "11160   43        0    8         9         2    172         5\n",
       "11161   34        0    9       628         1     -1         0\n",
       "\n",
       "[11162 rows x 7 columns]"
      ],
      "text/html": [
       "<div>\n",
       "<style scoped>\n",
       "    .dataframe tbody tr th:only-of-type {\n",
       "        vertical-align: middle;\n",
       "    }\n",
       "\n",
       "    .dataframe tbody tr th {\n",
       "        vertical-align: top;\n",
       "    }\n",
       "\n",
       "    .dataframe thead th {\n",
       "        text-align: right;\n",
       "    }\n",
       "</style>\n",
       "<table border=\"1\" class=\"dataframe\">\n",
       "  <thead>\n",
       "    <tr style=\"text-align: right;\">\n",
       "      <th></th>\n",
       "      <th>age</th>\n",
       "      <th>balance</th>\n",
       "      <th>day</th>\n",
       "      <th>duration</th>\n",
       "      <th>campaign</th>\n",
       "      <th>pdays</th>\n",
       "      <th>previous</th>\n",
       "    </tr>\n",
       "  </thead>\n",
       "  <tbody>\n",
       "    <tr>\n",
       "      <th>0</th>\n",
       "      <td>59</td>\n",
       "      <td>2343</td>\n",
       "      <td>5</td>\n",
       "      <td>1042</td>\n",
       "      <td>1</td>\n",
       "      <td>-1</td>\n",
       "      <td>0</td>\n",
       "    </tr>\n",
       "    <tr>\n",
       "      <th>1</th>\n",
       "      <td>56</td>\n",
       "      <td>45</td>\n",
       "      <td>5</td>\n",
       "      <td>1467</td>\n",
       "      <td>1</td>\n",
       "      <td>-1</td>\n",
       "      <td>0</td>\n",
       "    </tr>\n",
       "    <tr>\n",
       "      <th>2</th>\n",
       "      <td>41</td>\n",
       "      <td>1270</td>\n",
       "      <td>5</td>\n",
       "      <td>1389</td>\n",
       "      <td>1</td>\n",
       "      <td>-1</td>\n",
       "      <td>0</td>\n",
       "    </tr>\n",
       "    <tr>\n",
       "      <th>3</th>\n",
       "      <td>55</td>\n",
       "      <td>2476</td>\n",
       "      <td>5</td>\n",
       "      <td>579</td>\n",
       "      <td>1</td>\n",
       "      <td>-1</td>\n",
       "      <td>0</td>\n",
       "    </tr>\n",
       "    <tr>\n",
       "      <th>4</th>\n",
       "      <td>54</td>\n",
       "      <td>184</td>\n",
       "      <td>5</td>\n",
       "      <td>673</td>\n",
       "      <td>2</td>\n",
       "      <td>-1</td>\n",
       "      <td>0</td>\n",
       "    </tr>\n",
       "    <tr>\n",
       "      <th>...</th>\n",
       "      <td>...</td>\n",
       "      <td>...</td>\n",
       "      <td>...</td>\n",
       "      <td>...</td>\n",
       "      <td>...</td>\n",
       "      <td>...</td>\n",
       "      <td>...</td>\n",
       "    </tr>\n",
       "    <tr>\n",
       "      <th>11157</th>\n",
       "      <td>33</td>\n",
       "      <td>1</td>\n",
       "      <td>20</td>\n",
       "      <td>257</td>\n",
       "      <td>1</td>\n",
       "      <td>-1</td>\n",
       "      <td>0</td>\n",
       "    </tr>\n",
       "    <tr>\n",
       "      <th>11158</th>\n",
       "      <td>39</td>\n",
       "      <td>733</td>\n",
       "      <td>16</td>\n",
       "      <td>83</td>\n",
       "      <td>4</td>\n",
       "      <td>-1</td>\n",
       "      <td>0</td>\n",
       "    </tr>\n",
       "    <tr>\n",
       "      <th>11159</th>\n",
       "      <td>32</td>\n",
       "      <td>29</td>\n",
       "      <td>19</td>\n",
       "      <td>156</td>\n",
       "      <td>2</td>\n",
       "      <td>-1</td>\n",
       "      <td>0</td>\n",
       "    </tr>\n",
       "    <tr>\n",
       "      <th>11160</th>\n",
       "      <td>43</td>\n",
       "      <td>0</td>\n",
       "      <td>8</td>\n",
       "      <td>9</td>\n",
       "      <td>2</td>\n",
       "      <td>172</td>\n",
       "      <td>5</td>\n",
       "    </tr>\n",
       "    <tr>\n",
       "      <th>11161</th>\n",
       "      <td>34</td>\n",
       "      <td>0</td>\n",
       "      <td>9</td>\n",
       "      <td>628</td>\n",
       "      <td>1</td>\n",
       "      <td>-1</td>\n",
       "      <td>0</td>\n",
       "    </tr>\n",
       "  </tbody>\n",
       "</table>\n",
       "<p>11162 rows × 7 columns</p>\n",
       "</div>"
      ]
     },
     "execution_count": 5,
     "metadata": {},
     "output_type": "execute_result"
    }
   ],
   "execution_count": 5
  },
  {
   "cell_type": "code",
   "metadata": {
    "id": "Fvz_yY6VBEct",
    "ExecuteTime": {
     "end_time": "2024-10-08T10:22:23.379467Z",
     "start_time": "2024-10-08T10:22:23.362349Z"
    }
   },
   "source": [
    "# Scaling the data\n",
    "scaler = StandardScaler()\n",
    "X=scaler.fit_transform(df_log_reg)"
   ],
   "outputs": [],
   "execution_count": 6
  },
  {
   "cell_type": "code",
   "source": [
    "X"
   ],
   "metadata": {
    "colab": {
     "base_uri": "https://localhost:8080/"
    },
    "id": "C5eQnIctE6FJ",
    "outputId": "0258fa9d-e68a-4804-a1c4-e8841320f3e0",
    "ExecuteTime": {
     "end_time": "2024-10-08T10:22:23.395062Z",
     "start_time": "2024-10-08T10:22:23.383554Z"
    }
   },
   "outputs": [
    {
     "data": {
      "text/plain": [
       "array([[ 1.49150488,  0.25252514, -1.26574556, ..., -0.55416834,\n",
       "        -0.48118405, -0.36325984],\n",
       "       [ 1.23967567, -0.4599736 , -1.26574556, ..., -0.55416834,\n",
       "        -0.48118405, -0.36325984],\n",
       "       [-0.0194704 , -0.0801603 , -1.26574556, ..., -0.55416834,\n",
       "        -0.48118405, -0.36325984],\n",
       "       ...,\n",
       "       [-0.77495804, -0.46493443,  0.39689074, ..., -0.18678537,\n",
       "        -0.48118405, -0.36325984],\n",
       "       [ 0.14841574, -0.47392593, -0.90946635, ..., -0.18678537,\n",
       "         1.10957066,  1.81833188],\n",
       "       [-0.6070719 , -0.47392593, -0.79070662, ..., -0.55416834,\n",
       "        -0.48118405, -0.36325984]])"
      ]
     },
     "execution_count": 7,
     "metadata": {},
     "output_type": "execute_result"
    }
   ],
   "execution_count": 7
  },
  {
   "cell_type": "code",
   "metadata": {
    "id": "kZFXVWRjBEcw",
    "ExecuteTime": {
     "end_time": "2024-10-08T10:22:23.411991Z",
     "start_time": "2024-10-08T10:22:23.400101Z"
    }
   },
   "source": [
    "# Create Train and Test samples\n",
    "X_train, X_test, y_train, y_test = train_test_split(X,y,test_size=0.3, random_state=42)"
   ],
   "outputs": [],
   "execution_count": 8
  },
  {
   "cell_type": "code",
   "metadata": {
    "id": "b7jcaDVdBEcz",
    "ExecuteTime": {
     "end_time": "2024-10-08T10:22:23.442631Z",
     "start_time": "2024-10-08T10:22:23.411991Z"
    }
   },
   "source": [
    "# Log Regression\n",
    "cls = LogisticRegression()\n",
    "cls = cls.fit(X_train,y_train)\n",
    "# Labels prediction\n",
    "y_out = cls.predict(X_test)\n",
    "# Probabilities for the objects in the test sample\n",
    "y_out_proba = cls.predict_proba(X_test)"
   ],
   "outputs": [],
   "execution_count": 9
  },
  {
   "cell_type": "code",
   "metadata": {
    "id": "LKCPtsrSBEc3",
    "ExecuteTime": {
     "end_time": "2024-10-08T10:22:23.475042Z",
     "start_time": "2024-10-08T10:22:23.442631Z"
    }
   },
   "source": [
    "# Metrics for binary classification\n",
    "accuracy = m.accuracy_score(y_test,y_out)\n",
    "precision = m.precision_score(y_test,y_out)\n",
    "recall = m.recall_score(y_test,y_out)\n",
    "roc_auc = roc_auc_score(y_out,y_test)\n",
    "f1_score = m.f1_score(y_test,y_out)"
   ],
   "outputs": [],
   "execution_count": 10
  },
  {
   "cell_type": "code",
   "metadata": {
    "id": "2oNlEhwdBEc6",
    "colab": {
     "base_uri": "https://localhost:8080/"
    },
    "outputId": "f8b2a26d-5669-4e19-d2a4-292f877bd40a",
    "ExecuteTime": {
     "end_time": "2024-10-08T10:22:23.489619Z",
     "start_time": "2024-10-08T10:22:23.475042Z"
    }
   },
   "source": [
    "\n",
    "print('accuracy', accuracy )\n",
    "print('precision', precision )\n",
    "print('recall', recall )\n",
    "print('roc_auc', roc_auc )\n",
    "print('F1-score', f1_score )"
   ],
   "outputs": [
    {
     "name": "stdout",
     "output_type": "stream",
     "text": [
      "accuracy 0.7414153478650344\n",
      "precision 0.7671232876712328\n",
      "recall 0.6621032980709396\n",
      "roc_auc 0.74518243894265\n",
      "F1-score 0.7107548430193721\n"
     ]
    }
   ],
   "execution_count": 11
  },
  {
   "cell_type": "code",
   "metadata": {
    "id": "o6t-ZQpVBEc9",
    "colab": {
     "base_uri": "https://localhost:8080/"
    },
    "outputId": "8eca85c3-271a-498a-d445-2e89deab192f",
    "ExecuteTime": {
     "end_time": "2024-10-08T10:22:23.505359Z",
     "start_time": "2024-10-08T10:22:23.492239Z"
    }
   },
   "source": [
    "y_out_proba"
   ],
   "outputs": [
    {
     "data": {
      "text/plain": [
       "array([[0.67771943, 0.32228057],\n",
       "       [0.03500508, 0.96499492],\n",
       "       [0.20992519, 0.79007481],\n",
       "       ...,\n",
       "       [0.6899345 , 0.3100655 ],\n",
       "       [0.64489134, 0.35510866],\n",
       "       [0.02440673, 0.97559327]])"
      ]
     },
     "execution_count": 12,
     "metadata": {},
     "output_type": "execute_result"
    }
   ],
   "execution_count": 12
  },
  {
   "cell_type": "code",
   "metadata": {
    "id": "D-OZ3dzpBEdA",
    "colab": {
     "base_uri": "https://localhost:8080/",
     "height": 428
    },
    "outputId": "aab4de95-6e80-4408-93b7-583e6dd93f48",
    "ExecuteTime": {
     "end_time": "2024-10-08T10:22:24.402779Z",
     "start_time": "2024-10-08T10:22:23.508379Z"
    }
   },
   "source": [
    "\n",
    "prec, rec, thresh = precision_recall_curve(y_test, y_out_proba[:,1])\n",
    "plt.figure(figsize=(9, 6))\n",
    "plt.grid()\n",
    "plt.plot(thresh, prec[:-1], label=\"Precision\")\n",
    "plt.plot(thresh, rec[:-1], label=\"Recall\")\n",
    "plt.xlabel(u\"Threshold\",fontsize = 15)\n",
    "plt.title(u'Precision-Recall curve',fontsize = 15)\n",
    "plt.legend(fontsize = 15)"
   ],
   "outputs": [
    {
     "data": {
      "text/plain": [
       "<matplotlib.legend.Legend at 0x28b4eb93d10>"
      ]
     },
     "execution_count": 13,
     "metadata": {},
     "output_type": "execute_result"
    },
    {
     "data": {
      "text/plain": [
       "<Figure size 900x600 with 1 Axes>"
      ],
      "image/png": "[encoded data removed]"
     },
     "metadata": {},
     "output_type": "display_data"
    }
   ],
   "execution_count": 13
  },
  {
   "cell_type": "code",
   "metadata": {
    "id": "DF1yEU9PBEdD",
    "colab": {
     "base_uri": "https://localhost:8080/",
     "height": 428
    },
    "outputId": "66330981-4939-4521-b4a6-900e64e1a475",
    "ExecuteTime": {
     "end_time": "2024-10-08T10:22:24.950480Z",
     "start_time": "2024-10-08T10:22:24.405304Z"
    }
   },
   "source": [
    "# ROC-curve\n",
    "from sklearn.metrics import roc_curve, roc_auc_score\n",
    "fpr, tpr, thr = roc_curve(y_test, y_out_proba[:,1])\n",
    "\n",
    "plt.figure(figsize = (9,6))\n",
    "plt.plot(fpr, tpr, label=u'ROC \\n'+'ROC AUC = ' + str(round(roc_auc,2)))\n",
    "plt.grid()\n",
    "plt.xlabel(\"false positive rate\",fontsize = 15)\n",
    "plt.ylabel(\"true positive rate\",fontsize = 15)\n",
    "plt.title(u\"ROC curve\",fontsize = 15)\n",
    "plt.legend(fontsize = 15)\n"
   ],
   "outputs": [
    {
     "data": {
      "text/plain": [
       "<matplotlib.legend.Legend at 0x28b4ec26ae0>"
      ]
     },
     "execution_count": 14,
     "metadata": {},
     "output_type": "execute_result"
    },
    {
     "data": {
      "text/plain": [
       "<Figure size 900x600 with 1 Axes>"
      ],
      "image/png": "[encoded data removed]"
     },
     "metadata": {},
     "output_type": "display_data"
    }
   ],
   "execution_count": 14
  },
  {
   "cell_type": "code",
   "metadata": {
    "id": "JXXYCTFDBEdG",
    "colab": {
     "base_uri": "https://localhost:8080/",
     "height": 393
    },
    "outputId": "5107fc91-968e-4fc9-b8e7-12648a45b875",
    "ExecuteTime": {
     "end_time": "2024-10-08T10:22:25.553276Z",
     "start_time": "2024-10-08T10:22:24.951997Z"
    }
   },
   "source": [
    "# predictions distribution\n",
    "def scatter(actual, predicted, T):\n",
    "    plt.figure(figsize = (9,6))\n",
    "    plt.scatter(actual, predicted,s=100,alpha = 0.01)\n",
    "    plt.xlabel(u\"Labels\",fontsize = 15)\n",
    "    plt.ylabel(u\"Probabilities\",fontsize = 15)\n",
    "    plt.plot([-0.2, 1.2], [T, T])\n",
    "    plt.axis([-0.1, 1.1, -0.1, 1.1])\n",
    "scatter(y_test,y_out_proba[:,1],0.5)"
   ],
   "outputs": [
    {
     "data": {
      "text/plain": [
       "<Figure size 900x600 with 1 Axes>"
      ],
      "image/png": "[encoded data removed]"
     },
     "metadata": {},
     "output_type": "display_data"
    }
   ],
   "execution_count": 15
  },
  {
   "cell_type": "code",
   "metadata": {
    "id": "oIOg18fpc7rG",
    "ExecuteTime": {
     "end_time": "2024-10-08T10:22:25.560138Z",
     "start_time": "2024-10-08T10:22:25.553276Z"
    }
   },
   "source": [],
   "outputs": [],
   "execution_count": 15
  }
 ]
}
