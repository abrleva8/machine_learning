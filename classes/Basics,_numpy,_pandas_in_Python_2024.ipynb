{
 "nbformat": 4,
 "nbformat_minor": 0,
 "metadata": {
  "colab": {
   "provenance": [],
   "collapsed_sections": [
    "8mpdvSEy1Zvk"
   ]
  },
  "kernelspec": {
   "display_name": "Python 3",
   "language": "python",
   "name": "python3"
  },
  "language_info": {
   "codemirror_mode": {
    "name": "ipython",
    "version": 3
   },
   "file_extension": ".py",
   "mimetype": "text/x-python",
   "name": "python",
   "nbconvert_exporter": "python",
   "pygments_lexer": "ipython3",
   "version": "3.7.0"
  }
 },
 "cells": [
  {
   "cell_type": "markdown",
   "metadata": {
    "id": "tIN8B0n8vE5f"
   },
   "source": [
    "# Basic types and constructions in Python"
   ]
  },
  {
   "cell_type": "markdown",
   "metadata": {
    "id": "ZqqDqaZnvE5k"
   },
   "source": [
    "## 1. Basic types: numeric types"
   ]
  },
  {
   "cell_type": "code",
   "metadata": {
    "id": "93nU6JCmvE5w",
    "ExecuteTime": {
     "end_time": "2024-10-04T08:34:37.494675Z",
     "start_time": "2024-10-04T08:34:37.489999Z"
    }
   },
   "source": [
    "# int\n",
    "num = 5\n",
    "print(num)\n",
    "print(type(num))"
   ],
   "outputs": [
    {
     "name": "stdout",
     "output_type": "stream",
     "text": [
      "5\n",
      "<class 'int'>\n"
     ]
    }
   ],
   "execution_count": 1
  },
  {
   "cell_type": "code",
   "metadata": {
    "id": "StU_X3zUvE54",
    "ExecuteTime": {
     "end_time": "2024-10-04T08:34:37.510709Z",
     "start_time": "2024-10-04T08:34:37.495264Z"
    }
   },
   "source": [
    "# float\n",
    "num = 13.4\n",
    "print(num)\n",
    "\n",
    "num = 1.5e2\n",
    "print(type(num))"
   ],
   "outputs": [
    {
     "name": "stdout",
     "output_type": "stream",
     "text": [
      "13.4\n",
      "<class 'float'>\n"
     ]
    }
   ],
   "execution_count": 2
  },
  {
   "cell_type": "code",
   "source": [
    "print(\"Hello\")"
   ],
   "metadata": {
    "id": "Z9oMATwikGhf",
    "ExecuteTime": {
     "end_time": "2024-10-04T08:34:37.517134Z",
     "start_time": "2024-10-04T08:34:37.512742Z"
    }
   },
   "outputs": [
    {
     "name": "stdout",
     "output_type": "stream",
     "text": [
      "Hello\n"
     ]
    }
   ],
   "execution_count": 3
  },
  {
   "cell_type": "markdown",
   "source": [
    "### Head"
   ],
   "metadata": {
    "id": "5IkaLEk1kSxF"
   }
  },
  {
   "cell_type": "code",
   "metadata": {
    "id": "cqvxMA2NvE5_",
    "ExecuteTime": {
     "end_time": "2024-10-04T08:34:37.524612Z",
     "start_time": "2024-10-04T08:34:37.517134Z"
    }
   },
   "source": [
    "# Python may convert types\n",
    "num = int(num)\n",
    "print(num, type(num))\n",
    "\n",
    "num = float(num)\n",
    "print(num, type(num))"
   ],
   "outputs": [
    {
     "name": "stdout",
     "output_type": "stream",
     "text": [
      "150 <class 'int'>\n",
      "150.0 <class 'float'>\n"
     ]
    }
   ],
   "execution_count": 4
  },
  {
   "cell_type": "markdown",
   "source": [
    "Hello"
   ],
   "metadata": {
    "id": "eVatfVXFkJym"
   }
  },
  {
   "cell_type": "markdown",
   "metadata": {
    "id": "_WwY2PBhvE6o"
   },
   "source": [
    "## 2. Basic types: **logical types**"
   ]
  },
  {
   "cell_type": "code",
   "metadata": {
    "id": "dSlDe81PvE6p",
    "ExecuteTime": {
     "end_time": "2024-10-04T08:34:37.530520Z",
     "start_time": "2024-10-04T08:34:37.525620Z"
    }
   },
   "source": [
    "# bool\n",
    "print(3 > 4)\n",
    "print(3 <= 3)\n",
    "print(6 >= 6)\n",
    "print(6 < 5)"
   ],
   "outputs": [
    {
     "name": "stdout",
     "output_type": "stream",
     "text": [
      "False\n",
      "True\n",
      "True\n",
      "False\n"
     ]
    }
   ],
   "execution_count": 5
  },
  {
   "cell_type": "code",
   "metadata": {
    "id": "q8Z_6dHFvE6r",
    "ExecuteTime": {
     "end_time": "2024-10-04T08:34:37.539012Z",
     "start_time": "2024-10-04T08:34:37.531533Z"
    }
   },
   "source": [
    "x = False\n",
    "y = True\n",
    "print(x and y) # logical and\n",
    "print(x or y) # logical or\n",
    "print(not y) # logical not"
   ],
   "outputs": [
    {
     "name": "stdout",
     "output_type": "stream",
     "text": [
      "False\n",
      "True\n",
      "False\n"
     ]
    }
   ],
   "execution_count": 6
  },
  {
   "cell_type": "code",
   "metadata": {
    "id": "ksEl1kBIzJu9",
    "ExecuteTime": {
     "end_time": "2024-10-04T08:34:37.544746Z",
     "start_time": "2024-10-04T08:34:37.540114Z"
    }
   },
   "source": [
    "# example\n",
    "x, y, z = True, False, True\n",
    "result = x and y or z\n",
    "print(result)"
   ],
   "outputs": [
    {
     "name": "stdout",
     "output_type": "stream",
     "text": [
      "True\n"
     ]
    }
   ],
   "execution_count": 7
  },
  {
   "cell_type": "markdown",
   "metadata": {
    "id": "XFUeoYTAzVsh"
   },
   "source": [
    "## 3. Basic types: string"
   ]
  },
  {
   "cell_type": "code",
   "metadata": {
    "id": "3UjvQiyIzbsA",
    "ExecuteTime": {
     "end_time": "2024-10-04T08:34:37.551151Z",
     "start_time": "2024-10-04T08:34:37.545844Z"
    }
   },
   "source": [
    "example_string = \"Python course in ITMO\"\n",
    "print(example_string)\n",
    "print(type(example_string))"
   ],
   "outputs": [
    {
     "name": "stdout",
     "output_type": "stream",
     "text": [
      "Python course in ITMO\n",
      "<class 'str'>\n"
     ]
    }
   ],
   "execution_count": 8
  },
  {
   "cell_type": "code",
   "metadata": {
    "id": "LYCITar6A89l",
    "ExecuteTime": {
     "end_time": "2024-10-04T08:34:37.560553Z",
     "start_time": "2024-10-04T08:34:37.552164Z"
    }
   },
   "source": [
    "example_string[7]"
   ],
   "outputs": [
    {
     "data": {
      "text/plain": [
       "'c'"
      ]
     },
     "execution_count": 9,
     "metadata": {},
     "output_type": "execute_result"
    }
   ],
   "execution_count": 9
  },
  {
   "cell_type": "code",
   "metadata": {
    "id": "LCl3DCKnzbuV",
    "ExecuteTime": {
     "end_time": "2024-10-04T08:34:37.567546Z",
     "start_time": "2024-10-04T08:34:37.561629Z"
    }
   },
   "source": [
    "# combine strings\n",
    "\"You \" + \"can \" + \"just \" + \"add \" + \"one \" + \"string \" + \"to another \""
   ],
   "outputs": [
    {
     "data": {
      "text/plain": [
       "'You can just add one string to another '"
      ]
     },
     "execution_count": 10,
     "metadata": {},
     "output_type": "execute_result"
    }
   ],
   "execution_count": 10
  },
  {
   "cell_type": "code",
   "metadata": {
    "id": "c1KfRSyOzbw-",
    "ExecuteTime": {
     "end_time": "2024-10-04T08:34:37.576919Z",
     "start_time": "2024-10-04T08:34:37.569922Z"
    }
   },
   "source": [
    "# slicing string\n",
    "example_string = \"Python cource in ITMO\"\n",
    "example_string[17:21]"
   ],
   "outputs": [
    {
     "data": {
      "text/plain": [
       "'ITMO'"
      ]
     },
     "execution_count": 11,
     "metadata": {},
     "output_type": "execute_result"
    }
   ],
   "execution_count": 11
  },
  {
   "cell_type": "code",
   "metadata": {
    "id": "Eov4RxiC0h-S",
    "ExecuteTime": {
     "end_time": "2024-10-04T08:34:37.583593Z",
     "start_time": "2024-10-04T08:34:37.578013Z"
    }
   },
   "source": [
    "# 'in' operator\n",
    "\"3.14333\" in \"Pi number = 3.1415926\""
   ],
   "outputs": [
    {
     "data": {
      "text/plain": [
       "False"
      ]
     },
     "execution_count": 12,
     "metadata": {},
     "output_type": "execute_result"
    }
   ],
   "execution_count": 12
  },
  {
   "cell_type": "code",
   "metadata": {
    "id": "M0lytxjHBfVh",
    "ExecuteTime": {
     "end_time": "2024-10-04T08:34:37.587995Z",
     "start_time": "2024-10-04T08:34:37.585600Z"
    }
   },
   "source": [],
   "outputs": [],
   "execution_count": 12
  },
  {
   "cell_type": "code",
   "metadata": {
    "id": "RTU671420vYb",
    "ExecuteTime": {
     "end_time": "2024-10-04T08:34:37.593362Z",
     "start_time": "2024-10-04T08:34:37.589003Z"
    }
   },
   "source": [
    "example_string = \"ITMO\"\n",
    "for letter in example_string:\n",
    "    print(\"Letter\", letter)"
   ],
   "outputs": [
    {
     "name": "stdout",
     "output_type": "stream",
     "text": [
      "Letter I\n",
      "Letter T\n",
      "Letter M\n",
      "Letter O\n"
     ]
    }
   ],
   "execution_count": 13
  },
  {
   "cell_type": "code",
   "metadata": {
    "id": "0M5lu-xn08Ps",
    "ExecuteTime": {
     "end_time": "2024-10-04T08:34:37.601955Z",
     "start_time": "2024-10-04T08:34:37.594369Z"
    }
   },
   "source": [
    "# create string\n",
    "\"{num} K ought to be enough for anybody. ({author})\".format(\n",
    "    num=\"ITMO\", author=\"Bill Gates\")"
   ],
   "outputs": [
    {
     "data": {
      "text/plain": [
       "'ITMO K ought to be enough for anybody. (Bill Gates)'"
      ]
     },
     "execution_count": 14,
     "metadata": {},
     "output_type": "execute_result"
    }
   ],
   "execution_count": 14
  },
  {
   "cell_type": "markdown",
   "metadata": {
    "id": "8mpdvSEy1Zvk"
   },
   "source": [
    "## 4. Basic types: None object\n",
    "\n"
   ]
  },
  {
   "cell_type": "code",
   "metadata": {
    "id": "JfB-l3S-1gGN",
    "ExecuteTime": {
     "end_time": "2024-10-04T08:34:37.607990Z",
     "start_time": "2024-10-04T08:34:37.602964Z"
    }
   },
   "source": [
    "z = None\n",
    "print(z)\n",
    "print(type(z))"
   ],
   "outputs": [
    {
     "name": "stdout",
     "output_type": "stream",
     "text": [
      "None\n",
      "<class 'NoneType'>\n"
     ]
    }
   ],
   "execution_count": 15
  },
  {
   "cell_type": "markdown",
   "metadata": {
    "id": "UYVitVAVvE7l"
   },
   "source": [
    "# Collections in Python"
   ]
  },
  {
   "cell_type": "markdown",
   "metadata": {
    "id": "ltb5TcWVvE7l"
   },
   "source": [
    "## 1. Collections: list"
   ]
  },
  {
   "cell_type": "code",
   "metadata": {
    "id": "hi6DPqowCMKu",
    "ExecuteTime": {
     "end_time": "2024-10-04T08:34:37.614588Z",
     "start_time": "2024-10-04T08:34:37.608542Z"
    }
   },
   "source": [
    "list0 = []"
   ],
   "outputs": [],
   "execution_count": 16
  },
  {
   "cell_type": "code",
   "metadata": {
    "id": "PVAnsXJXvE7l",
    "ExecuteTime": {
     "end_time": "2024-10-04T08:34:37.621701Z",
     "start_time": "2024-10-04T08:34:37.616129Z"
    }
   },
   "source": [
    "saled_goods_count = [33450, 34010, 33990, 33200]\n",
    "\n",
    "print(saled_goods_count)\n",
    "print(type(saled_goods_count))"
   ],
   "outputs": [
    {
     "name": "stdout",
     "output_type": "stream",
     "text": [
      "[33450, 34010, 33990, 33200]\n",
      "<class 'list'>\n"
     ]
    }
   ],
   "execution_count": 17
  },
  {
   "cell_type": "code",
   "metadata": {
    "id": "aZ2BqQ6zvE7m",
    "ExecuteTime": {
     "end_time": "2024-10-04T08:34:37.628363Z",
     "start_time": "2024-10-04T08:34:37.622798Z"
    }
   },
   "source": [
    "collections = ['list', 'tuple', 'dict', 'set']\n",
    "\n",
    "print(collections)\n",
    "print(type(collections))"
   ],
   "outputs": [
    {
     "name": "stdout",
     "output_type": "stream",
     "text": [
      "['list', 'tuple', 'dict', 'set']\n",
      "<class 'list'>\n"
     ]
    }
   ],
   "execution_count": 18
  },
  {
   "cell_type": "code",
   "metadata": {
    "id": "doLsnmGjvE7p",
    "ExecuteTime": {
     "end_time": "2024-10-04T08:34:37.635257Z",
     "start_time": "2024-10-04T08:34:37.628881Z"
    }
   },
   "source": [
    "features = ['Ivan Ivanovich', 'Medium', 500000, 12, True]\n",
    "print (features)\n",
    "print(type(features))"
   ],
   "outputs": [
    {
     "name": "stdout",
     "output_type": "stream",
     "text": [
      "['Ivan Ivanovich', 'Medium', 500000, 12, True]\n",
      "<class 'list'>\n"
     ]
    }
   ],
   "execution_count": 19
  },
  {
   "cell_type": "code",
   "metadata": {
    "id": "n5D9-VlC3i2f",
    "ExecuteTime": {
     "end_time": "2024-10-04T08:34:37.642883Z",
     "start_time": "2024-10-04T08:34:37.636264Z"
    }
   },
   "source": [
    "# list length\n",
    "len(collections)"
   ],
   "outputs": [
    {
     "data": {
      "text/plain": [
       "4"
      ]
     },
     "execution_count": 20,
     "metadata": {},
     "output_type": "execute_result"
    }
   ],
   "execution_count": 20
  },
  {
   "cell_type": "code",
   "metadata": {
    "id": "9AowbgoavE7q",
    "ExecuteTime": {
     "end_time": "2024-10-04T08:34:37.649536Z",
     "start_time": "2024-10-04T08:34:37.643892Z"
    }
   },
   "source": [
    "# indexes and slices\n",
    "print(collections)\n",
    "\n",
    "print(collections[0])\n",
    "print(collections[-1])"
   ],
   "outputs": [
    {
     "name": "stdout",
     "output_type": "stream",
     "text": [
      "['list', 'tuple', 'dict', 'set']\n",
      "list\n",
      "set\n"
     ]
    }
   ],
   "execution_count": 21
  },
  {
   "cell_type": "code",
   "metadata": {
    "id": "DzmRHP074K5Q",
    "ExecuteTime": {
     "end_time": "2024-10-04T08:34:37.656367Z",
     "start_time": "2024-10-04T08:34:37.650543Z"
    }
   },
   "source": [
    "range_list = list(range(5,11))\n",
    "print(range_list)"
   ],
   "outputs": [
    {
     "name": "stdout",
     "output_type": "stream",
     "text": [
      "[5, 6, 7, 8, 9, 10]\n"
     ]
    }
   ],
   "execution_count": 22
  },
  {
   "cell_type": "code",
   "metadata": {
    "id": "iPKWjvlA4P-G",
    "ExecuteTime": {
     "end_time": "2024-10-04T08:34:37.664302Z",
     "start_time": "2024-10-04T08:34:37.657378Z"
    }
   },
   "source": [
    "range_list[1:3]"
   ],
   "outputs": [
    {
     "data": {
      "text/plain": [
       "[6, 7]"
      ]
     },
     "execution_count": 23,
     "metadata": {},
     "output_type": "execute_result"
    }
   ],
   "execution_count": 23
  },
  {
   "cell_type": "code",
   "metadata": {
    "id": "rCzxC5dQ4S-h",
    "ExecuteTime": {
     "end_time": "2024-10-04T08:34:37.671473Z",
     "start_time": "2024-10-04T08:34:37.665317Z"
    }
   },
   "source": [
    "range_list[3:]"
   ],
   "outputs": [
    {
     "data": {
      "text/plain": [
       "[8, 9, 10]"
      ]
     },
     "execution_count": 24,
     "metadata": {},
     "output_type": "execute_result"
    }
   ],
   "execution_count": 24
  },
  {
   "cell_type": "code",
   "metadata": {
    "id": "SHJhgp9m4VbF",
    "ExecuteTime": {
     "end_time": "2024-10-04T08:34:37.815927Z",
     "start_time": "2024-10-04T08:34:37.809793Z"
    }
   },
   "source": [
    "range_list[:5]"
   ],
   "outputs": [
    {
     "data": {
      "text/plain": [
       "[5, 6, 7, 8, 9]"
      ]
     },
     "execution_count": 25,
     "metadata": {},
     "output_type": "execute_result"
    }
   ],
   "execution_count": 25
  },
  {
   "cell_type": "code",
   "metadata": {
    "id": "rFeIRoU-4Vdh",
    "ExecuteTime": {
     "end_time": "2024-10-04T08:34:38.411689Z",
     "start_time": "2024-10-04T08:34:38.407099Z"
    }
   },
   "source": [
    "range_list[::2]"
   ],
   "outputs": [
    {
     "data": {
      "text/plain": [
       "[5, 7, 9]"
      ]
     },
     "execution_count": 26,
     "metadata": {},
     "output_type": "execute_result"
    }
   ],
   "execution_count": 26
  },
  {
   "cell_type": "code",
   "metadata": {
    "id": "g3v2gNIo4Vf9",
    "ExecuteTime": {
     "end_time": "2024-10-04T08:34:39.071030Z",
     "start_time": "2024-10-04T08:34:39.064650Z"
    }
   },
   "source": [
    "range_list[::-1]"
   ],
   "outputs": [
    {
     "data": {
      "text/plain": [
       "[10, 9, 8, 7, 6, 5]"
      ]
     },
     "execution_count": 27,
     "metadata": {},
     "output_type": "execute_result"
    }
   ],
   "execution_count": 27
  },
  {
   "cell_type": "code",
   "metadata": {
    "id": "-ixEdLbw4U6p",
    "ExecuteTime": {
     "end_time": "2024-10-04T08:34:39.202302Z",
     "start_time": "2024-10-04T08:34:39.197203Z"
    }
   },
   "source": [
    "# iterations\n",
    "collections = ['list', 'tuple', 'dict', 'set']\n",
    "\n",
    "for collection in collections:\n",
    "    print('Learning {}...'.format(collection))"
   ],
   "outputs": [
    {
     "name": "stdout",
     "output_type": "stream",
     "text": [
      "Learning list...\n",
      "Learning tuple...\n",
      "Learning dict...\n",
      "Learning set...\n"
     ]
    }
   ],
   "execution_count": 28
  },
  {
   "cell_type": "code",
   "metadata": {
    "id": "Fboikg5VvE7s",
    "ExecuteTime": {
     "end_time": "2024-10-04T08:34:39.283990Z",
     "start_time": "2024-10-04T08:34:39.280075Z"
    }
   },
   "source": [
    "for idx, collection in enumerate(collections):\n",
    "    print('#{} {}'.format(idx, collection))"
   ],
   "outputs": [
    {
     "name": "stdout",
     "output_type": "stream",
     "text": [
      "#0 list\n",
      "#1 tuple\n",
      "#2 dict\n",
      "#3 set\n"
     ]
    }
   ],
   "execution_count": 29
  },
  {
   "cell_type": "code",
   "source": [
    "for idx, collection in enumerate(collections):\n",
    "    print(f'{idx} {collection}')"
   ],
   "metadata": {
    "id": "jzYEQcNb2-0B",
    "ExecuteTime": {
     "end_time": "2024-10-04T08:34:39.514120Z",
     "start_time": "2024-10-04T08:34:39.509084Z"
    }
   },
   "outputs": [
    {
     "name": "stdout",
     "output_type": "stream",
     "text": [
      "0 list\n",
      "1 tuple\n",
      "2 dict\n",
      "3 set\n"
     ]
    }
   ],
   "execution_count": 30
  },
  {
   "cell_type": "code",
   "metadata": {
    "id": "4iCFr3rj4qs2",
    "ExecuteTime": {
     "end_time": "2024-10-04T08:34:39.711937Z",
     "start_time": "2024-10-04T08:34:39.705662Z"
    }
   },
   "source": [
    "# add or remove elements\n",
    "collections.append('OrderedDict')\n",
    "\n",
    "print(collections)"
   ],
   "outputs": [
    {
     "name": "stdout",
     "output_type": "stream",
     "text": [
      "['list', 'tuple', 'dict', 'set', 'OrderedDict']\n"
     ]
    }
   ],
   "execution_count": 31
  },
  {
   "cell_type": "code",
   "metadata": {
    "id": "aS1o2nmo4qvp",
    "ExecuteTime": {
     "end_time": "2024-10-04T08:34:40.035628Z",
     "start_time": "2024-10-04T08:34:40.028679Z"
    }
   },
   "source": [
    "collections.extend(['ponyset', 'unicorndict'])\n",
    "\n",
    "print(collections)"
   ],
   "outputs": [
    {
     "name": "stdout",
     "output_type": "stream",
     "text": [
      "['list', 'tuple', 'dict', 'set', 'OrderedDict', 'ponyset', 'unicorndict']\n"
     ]
    }
   ],
   "execution_count": 32
  },
  {
   "cell_type": "code",
   "metadata": {
    "id": "nyBqFvO54qyT",
    "ExecuteTime": {
     "end_time": "2024-10-04T08:34:40.234940Z",
     "start_time": "2024-10-04T08:34:40.229048Z"
    }
   },
   "source": [
    "collections += [None]\n",
    "\n",
    "print(collections)"
   ],
   "outputs": [
    {
     "name": "stdout",
     "output_type": "stream",
     "text": [
      "['list', 'tuple', 'dict', 'set', 'OrderedDict', 'ponyset', 'unicorndict', None]\n"
     ]
    }
   ],
   "execution_count": 33
  },
  {
   "cell_type": "code",
   "metadata": {
    "id": "6BNQDIRl41MJ",
    "ExecuteTime": {
     "end_time": "2024-10-04T08:34:40.543678Z",
     "start_time": "2024-10-04T08:34:40.538901Z"
    }
   },
   "source": [
    "del collections[4]\n",
    "\n",
    "print(collections)"
   ],
   "outputs": [
    {
     "name": "stdout",
     "output_type": "stream",
     "text": [
      "['list', 'tuple', 'dict', 'set', 'ponyset', 'unicorndict', None]\n"
     ]
    }
   ],
   "execution_count": 34
  },
  {
   "cell_type": "code",
   "metadata": {
    "id": "mzBJeG_X43Wh",
    "ExecuteTime": {
     "end_time": "2024-10-04T08:34:40.811011Z",
     "start_time": "2024-10-04T08:34:40.802824Z"
    }
   },
   "source": [
    "# min, max. sum\n",
    "numbers = [4, 17, 19, 9, 2, 6, 10, 13]\n",
    "\n",
    "print(min(numbers))\n",
    "print(max(numbers))\n",
    "print(sum(numbers))"
   ],
   "outputs": [
    {
     "name": "stdout",
     "output_type": "stream",
     "text": [
      "2\n",
      "19\n",
      "80\n"
     ]
    }
   ],
   "execution_count": 35
  },
  {
   "cell_type": "markdown",
   "metadata": {
    "id": "VDSAp0IfvE70"
   },
   "source": [
    "## 2. Collections: tuple"
   ]
  },
  {
   "cell_type": "code",
   "metadata": {
    "id": "ycOgHFQcvE71",
    "ExecuteTime": {
     "end_time": "2024-10-04T08:34:41.156412Z",
     "start_time": "2024-10-04T08:34:41.150537Z"
    }
   },
   "source": [
    "empty_tuple = ()\n",
    "empty_tuple = tuple()"
   ],
   "outputs": [],
   "execution_count": 36
  },
  {
   "cell_type": "code",
   "metadata": {
    "id": "QB8ZfMc5vE72",
    "ExecuteTime": {
     "end_time": "2024-10-04T08:34:41.495124Z",
     "start_time": "2024-10-04T08:34:41.488887Z"
    }
   },
   "source": [
    "immutables = (int, str, tuple)"
   ],
   "outputs": [],
   "execution_count": 37
  },
  {
   "cell_type": "code",
   "metadata": {
    "id": "Lam1qX5lvE74",
    "ExecuteTime": {
     "end_time": "2024-10-04T08:34:41.880939Z",
     "start_time": "2024-10-04T08:34:41.864532Z"
    }
   },
   "source": [
    "one_element_tuple = (1,)\n",
    "guess_what = (1)\n",
    "\n",
    "type(guess_what)"
   ],
   "outputs": [
    {
     "data": {
      "text/plain": [
       "int"
      ]
     },
     "execution_count": 38,
     "metadata": {},
     "output_type": "execute_result"
    }
   ],
   "execution_count": 38
  },
  {
   "cell_type": "code",
   "source": [
    "type(one_element_tuple)"
   ],
   "metadata": {
    "id": "ZB9depbs3Svx",
    "ExecuteTime": {
     "end_time": "2024-10-04T08:34:42.100840Z",
     "start_time": "2024-10-04T08:34:42.090492Z"
    }
   },
   "outputs": [
    {
     "data": {
      "text/plain": [
       "tuple"
      ]
     },
     "execution_count": 39,
     "metadata": {},
     "output_type": "execute_result"
    }
   ],
   "execution_count": 39
  },
  {
   "cell_type": "markdown",
   "metadata": {
    "id": "ictx1E8qvE75"
   },
   "source": [
    "## 3. Collections: dictionary\n"
   ]
  },
  {
   "cell_type": "code",
   "metadata": {
    "id": "9swkXhk35kNb",
    "ExecuteTime": {
     "end_time": "2024-10-04T08:34:42.335996Z",
     "start_time": "2024-10-04T08:34:42.323094Z"
    }
   },
   "source": [
    "empty_dict = {}\n",
    "empty_dict = dict()\n",
    "\n",
    "collections_map = {\n",
    "    'mutable': ['list', 'set', 'dict'],\n",
    "    'immutable': ['tuple', 'frozenset']\n",
    "}"
   ],
   "outputs": [],
   "execution_count": 40
  },
  {
   "cell_type": "code",
   "metadata": {
    "id": "JmwVmXL95kPy",
    "ExecuteTime": {
     "end_time": "2024-10-04T08:34:42.555488Z",
     "start_time": "2024-10-04T08:34:42.547597Z"
    }
   },
   "source": [
    "print(collections_map['immutable'])"
   ],
   "outputs": [
    {
     "name": "stdout",
     "output_type": "stream",
     "text": [
      "['tuple', 'frozenset']\n"
     ]
    }
   ],
   "execution_count": 41
  },
  {
   "cell_type": "code",
   "metadata": {
    "id": "tNbHlIuI5kSH",
    "ExecuteTime": {
     "end_time": "2024-10-04T08:34:42.895677Z",
     "start_time": "2024-10-04T08:34:42.883813Z"
    }
   },
   "source": [
    "# add elements\n",
    "beatles_map = {\n",
    "    'Paul': 'Bass',\n",
    "    'John': 'Guitar',\n",
    "    'George': 'Guitar',\n",
    "}\n",
    "\n",
    "print(beatles_map)\n",
    "\n",
    "beatles_map['Ringo'] = 'Drums'\n",
    "\n",
    "print(beatles_map)"
   ],
   "outputs": [
    {
     "name": "stdout",
     "output_type": "stream",
     "text": [
      "{'Paul': 'Bass', 'John': 'Guitar', 'George': 'Guitar'}\n",
      "{'Paul': 'Bass', 'John': 'Guitar', 'George': 'Guitar', 'Ringo': 'Drums'}\n"
     ]
    }
   ],
   "execution_count": 42
  },
  {
   "cell_type": "code",
   "metadata": {
    "id": "PIe5iz3P5kU3",
    "ExecuteTime": {
     "end_time": "2024-10-04T08:34:43.094274Z",
     "start_time": "2024-10-04T08:34:43.083543Z"
    }
   },
   "source": [
    "# delete elements\n",
    "del beatles_map['John']\n",
    "\n",
    "\n",
    "print(beatles_map)"
   ],
   "outputs": [
    {
     "name": "stdout",
     "output_type": "stream",
     "text": [
      "{'Paul': 'Bass', 'George': 'Guitar', 'Ringo': 'Drums'}\n"
     ]
    }
   ],
   "execution_count": 43
  },
  {
   "cell_type": "code",
   "metadata": {
    "id": "wTuSzNW859zS",
    "ExecuteTime": {
     "end_time": "2024-10-04T08:34:43.383538Z",
     "start_time": "2024-10-04T08:34:43.375235Z"
    }
   },
   "source": [
    "# iteration\n",
    "for key, value in beatles_map.items():\n",
    "    print('{} — {}'.format(key, value))"
   ],
   "outputs": [
    {
     "name": "stdout",
     "output_type": "stream",
     "text": [
      "Paul — Bass\n",
      "George — Guitar\n",
      "Ringo — Drums\n"
     ]
    }
   ],
   "execution_count": 44
  },
  {
   "cell_type": "markdown",
   "metadata": {
    "id": "CtEd_AEmvE76"
   },
   "source": [
    "## 4. Collections: set"
   ]
  },
  {
   "cell_type": "code",
   "metadata": {
    "id": "k0zkL6xBvE76",
    "ExecuteTime": {
     "end_time": "2024-10-04T08:34:43.625967Z",
     "start_time": "2024-10-04T08:34:43.613791Z"
    }
   },
   "source": [
    "empty_set = set()\n",
    "number_set = {1, 2, 3, 3, 3, 3, 4, 5}\n",
    "\n",
    "print(number_set)"
   ],
   "outputs": [
    {
     "name": "stdout",
     "output_type": "stream",
     "text": [
      "{1, 2, 3, 4, 5}\n"
     ]
    }
   ],
   "execution_count": 45
  },
  {
   "cell_type": "code",
   "metadata": {
    "id": "x21bNkQTvE78",
    "ExecuteTime": {
     "end_time": "2024-10-04T08:34:44.074580Z",
     "start_time": "2024-10-04T08:34:44.059001Z"
    }
   },
   "source": [
    "odd_set, odd_set = set(), set()\n",
    "\n",
    "odd_set = {1, 3, 5, 7}\n",
    "even_set = {2, 4, 6, 8}\n",
    "\n",
    "print(odd_set)\n",
    "print(even_set)\n",
    "\n",
    "union_set = odd_set | even_set\n",
    "print(union_set)\n",
    "\n",
    "intersection_set = odd_set & even_set\n",
    "print(intersection_set)\n",
    "for element in union_set:\n",
    "  print(element)"
   ],
   "outputs": [
    {
     "name": "stdout",
     "output_type": "stream",
     "text": [
      "{1, 3, 5, 7}\n",
      "{8, 2, 4, 6}\n",
      "{1, 2, 3, 4, 5, 6, 7, 8}\n",
      "set()\n",
      "1\n",
      "2\n",
      "3\n",
      "4\n",
      "5\n",
      "6\n",
      "7\n",
      "8\n"
     ]
    }
   ],
   "execution_count": 46
  },
  {
   "cell_type": "markdown",
   "metadata": {
    "collapsed": true,
    "id": "TDPSSuigvE8N"
   },
   "source": [
    "## Where you can find more informations about  Python"
   ]
  },
  {
   "cell_type": "markdown",
   "metadata": {
    "id": "Kgicm94WvE8O"
   },
   "source": [
    "* https://www.coursera.org/courses?query=Python\n",
    "* https://www.codeacademy.com\n",
    "* http://www.pythontutor.ru\n",
    "* http://www.learnpythonthehardway.org\n",
    "* http://snakify.org\n",
    "* https://www.checkio.org"
   ]
  },
  {
   "cell_type": "markdown",
   "metadata": {
    "id": "sk3_ozup8TcX"
   },
   "source": [
    "# Numpy"
   ]
  },
  {
   "cell_type": "markdown",
   "metadata": {
    "id": "8nTVIESs8ng2"
   },
   "source": [
    "## Numpy: arrays"
   ]
  },
  {
   "cell_type": "markdown",
   "metadata": {
    "id": "iByafSsk_W2G"
   },
   "source": [
    "### Basics"
   ]
  },
  {
   "cell_type": "code",
   "metadata": {
    "id": "hROQgEld8mzA",
    "ExecuteTime": {
     "end_time": "2024-10-04T08:34:44.300548Z",
     "start_time": "2024-10-04T08:34:44.288750Z"
    }
   },
   "source": [
    "import numpy as np"
   ],
   "outputs": [],
   "execution_count": 47
  },
  {
   "cell_type": "code",
   "metadata": {
    "id": "9ihmKrkl8yN4",
    "ExecuteTime": {
     "end_time": "2024-10-04T08:34:44.664186Z",
     "start_time": "2024-10-04T08:34:44.653060Z"
    }
   },
   "source": [
    "# array\n",
    "a = np.array([1, 2, 3, 4, 5])\n",
    "print(a)"
   ],
   "outputs": [
    {
     "name": "stdout",
     "output_type": "stream",
     "text": [
      "[1 2 3 4 5]\n"
     ]
    }
   ],
   "execution_count": 48
  },
  {
   "cell_type": "code",
   "metadata": {
    "id": "XSO1K68B84xE",
    "ExecuteTime": {
     "end_time": "2024-10-04T08:34:44.935947Z",
     "start_time": "2024-10-04T08:34:44.923789Z"
    }
   },
   "source": [
    "# float type array\n",
    "b = np.array([1.5, 2.6, 3.1, 4.8, 5.0], dtype=float)\n",
    "print(b)"
   ],
   "outputs": [
    {
     "name": "stdout",
     "output_type": "stream",
     "text": [
      "[1.5 2.6 3.1 4.8 5. ]\n"
     ]
    }
   ],
   "execution_count": 49
  },
  {
   "cell_type": "code",
   "metadata": {
    "id": "KU_5dGim9cFn",
    "ExecuteTime": {
     "end_time": "2024-10-04T08:34:45.175791Z",
     "start_time": "2024-10-04T08:34:45.169325Z"
    }
   },
   "source": [
    "# boolean type array\n",
    "c = np.array([True, False, True], dtype=bool)\n",
    "print(c)"
   ],
   "outputs": [
    {
     "name": "stdout",
     "output_type": "stream",
     "text": [
      "[ True False  True]\n"
     ]
    }
   ],
   "execution_count": 50
  },
  {
   "cell_type": "code",
   "metadata": {
    "id": "ZPttOVJx9gUB",
    "ExecuteTime": {
     "end_time": "2024-10-04T08:34:45.384870Z",
     "start_time": "2024-10-04T08:34:45.375832Z"
    }
   },
   "source": [
    "#another way to create numpy array\n",
    "import numpy as np\n",
    "d = np.arange(start=10, stop=20)\n",
    "print(d)"
   ],
   "outputs": [
    {
     "name": "stdout",
     "output_type": "stream",
     "text": [
      "[10 11 12 13 14 15 16 17 18 19]\n"
     ]
    }
   ],
   "execution_count": 51
  },
  {
   "cell_type": "code",
   "metadata": {
    "id": "xfs_fle-90nB",
    "ExecuteTime": {
     "end_time": "2024-10-04T08:34:45.661137Z",
     "start_time": "2024-10-04T08:34:45.649410Z"
    }
   },
   "source": [
    "# numpy array is 1D\n",
    "print(d.ndim)"
   ],
   "outputs": [
    {
     "name": "stdout",
     "output_type": "stream",
     "text": [
      "1\n"
     ]
    }
   ],
   "execution_count": 52
  },
  {
   "cell_type": "code",
   "metadata": {
    "id": "5SVtxwth9_HS",
    "ExecuteTime": {
     "end_time": "2024-10-04T08:34:45.899659Z",
     "start_time": "2024-10-04T08:34:45.884359Z"
    }
   },
   "source": [
    "# operations\n",
    "print(a)\n",
    "print(b)\n",
    "print(a + b) # sum\n",
    "print(a - b) # diff\n",
    "print(a*b)   # multiply"
   ],
   "outputs": [
    {
     "name": "stdout",
     "output_type": "stream",
     "text": [
      "[1 2 3 4 5]\n",
      "[1.5 2.6 3.1 4.8 5. ]\n",
      "[ 2.5  4.6  6.1  8.8 10. ]\n",
      "[-0.5 -0.6 -0.1 -0.8  0. ]\n",
      "[ 1.5  5.2  9.3 19.2 25. ]\n"
     ]
    }
   ],
   "execution_count": 53
  },
  {
   "cell_type": "code",
   "source": [
    "1000*a"
   ],
   "metadata": {
    "id": "UZUDu49QpHai",
    "ExecuteTime": {
     "end_time": "2024-10-04T08:34:46.181328Z",
     "start_time": "2024-10-04T08:34:46.169702Z"
    }
   },
   "outputs": [
    {
     "data": {
      "text/plain": [
       "array([1000, 2000, 3000, 4000, 5000])"
      ]
     },
     "execution_count": 54,
     "metadata": {},
     "output_type": "execute_result"
    }
   ],
   "execution_count": 54
  },
  {
   "cell_type": "markdown",
   "metadata": {
    "id": "DnWsfl3Z_cVM"
   },
   "source": [
    "###Norms of vector"
   ]
  },
  {
   "cell_type": "markdown",
   "metadata": {
    "id": "j49sAKTOADLz"
   },
   "source": [
    "**p-norm**\n",
    "\n",
    "Let p ≥ 1 be a real number. The\n",
    "p-norm of vector $x = (x_{1}, \\dots, x_{n}) \\in \\mathbb{R}^{n}$ is\n",
    "\n",
    "$$\n",
    "\\left\\Vert x \\right\\Vert_{p} = \\left( \\sum_{i=1}^n \\left| x_{i} \\right|^{p} \\right)^{1 / p},~p \\geq 1.\n",
    "$$\n",
    "\n",
    "For p = 1 we get the taxicab norm, for p = 2 we get the Euclidean norm"
   ]
  },
  {
   "cell_type": "code",
   "metadata": {
    "id": "bJQ3Jpfo_-dx",
    "ExecuteTime": {
     "end_time": "2024-10-04T08:34:46.377033Z",
     "start_time": "2024-10-04T08:34:46.369030Z"
    }
   },
   "source": [
    "from numpy.linalg import norm"
   ],
   "outputs": [],
   "execution_count": 55
  },
  {
   "cell_type": "markdown",
   "metadata": {
    "id": "V0dD5L3BBNhq"
   },
   "source": [
    "**Taxicab norm or Manhattan norm**\n",
    "$$\n",
    " \\left\\Vert x \\right\\Vert_{1} = \\sum_{i=1}^n \\left| x_{i} \\right|.\n",
    "$$"
   ]
  },
  {
   "cell_type": "code",
   "metadata": {
    "id": "Mo7ihd98BASc",
    "ExecuteTime": {
     "end_time": "2024-10-04T08:34:46.726412Z",
     "start_time": "2024-10-04T08:34:46.713322Z"
    }
   },
   "source": [
    "a = np.array([1, 2, -3])\n",
    "print('L1 norm of vector a: {norm}'.format(norm = norm(a, ord=1)))"
   ],
   "outputs": [
    {
     "name": "stdout",
     "output_type": "stream",
     "text": [
      "L1 norm of vector a: 6.0\n"
     ]
    }
   ],
   "execution_count": 56
  },
  {
   "cell_type": "markdown",
   "metadata": {
    "id": "pwlZQtBTCVbg"
   },
   "source": [
    "**Euclidean norm**\n",
    "$$\n",
    " \\left\\Vert x \\right\\Vert_{2} = \\sqrt{\\sum_{i=1}^n \\left( x_{i} \\right)^2}.\n",
    "$$"
   ]
  },
  {
   "cell_type": "code",
   "metadata": {
    "id": "kxrSTfT0BwDz",
    "ExecuteTime": {
     "end_time": "2024-10-04T08:34:46.945802Z",
     "start_time": "2024-10-04T08:34:46.932278Z"
    }
   },
   "source": [
    "print('L2 norm of vector a: {norm}'.format(norm = norm(a, ord=2)))"
   ],
   "outputs": [
    {
     "name": "stdout",
     "output_type": "stream",
     "text": [
      "L2 norm of vector a: 3.7416573867739413\n"
     ]
    }
   ],
   "execution_count": 57
  },
  {
   "cell_type": "markdown",
   "metadata": {
    "id": "2R2RPnAtC--R"
   },
   "source": [
    "###Distance between arrays"
   ]
  },
  {
   "cell_type": "markdown",
   "metadata": {
    "id": "19d6gMx6DEcF"
   },
   "source": [
    "For two arrays $x = (x_{1}, \\dots, x_{n}) \\in \\mathbb{R}^{n}$ и $y = (y_{1}, \\dots, y_{n}) \\in \\mathbb{R}^{n}$ $\\ell_{1}$ and $\\ell_{2}$  distance is calculated as:\n",
    "$$\n",
    " \\rho_{1}\\left( x, y \\right) = \\left\\Vert x - y \\right\\Vert_{1} = \\sum_{i=1}^n \\left| x_{i} - y_{i} \\right|\n",
    "$$\n",
    "\n",
    "$$\n",
    " \\rho_{2}\\left( x, y \\right) = \\left\\Vert x - y \\right\\Vert_{2} =\n",
    " \\sqrt{\\sum_{i=1}^n \\left( x_{i} - y_{i} \\right)^2}.\n",
    "$$"
   ]
  },
  {
   "cell_type": "code",
   "metadata": {
    "id": "vEu07TKjC0Yk",
    "ExecuteTime": {
     "end_time": "2024-10-04T08:34:47.280073Z",
     "start_time": "2024-10-04T08:34:47.268866Z"
    }
   },
   "source": [
    "b = np.array([1, 246, -565])\n",
    "print('L1 distance between a and b: {dist}'.format(dist = norm(a - b, ord=1)))"
   ],
   "outputs": [
    {
     "name": "stdout",
     "output_type": "stream",
     "text": [
      "L1 distance between a and b: 806.0\n"
     ]
    }
   ],
   "execution_count": 58
  },
  {
   "cell_type": "code",
   "metadata": {
    "id": "KoxVtq41Dk3W",
    "ExecuteTime": {
     "end_time": "2024-10-04T08:34:47.502927Z",
     "start_time": "2024-10-04T08:34:47.490250Z"
    }
   },
   "source": [
    "print('L2 distance between a and b: {dist}'.format(dist = norm(a - b, ord=2)))"
   ],
   "outputs": [
    {
     "name": "stdout",
     "output_type": "stream",
     "text": [
      "L2 distance between a and b: 612.6826258349424\n"
     ]
    }
   ],
   "execution_count": 59
  },
  {
   "cell_type": "markdown",
   "metadata": {
    "id": "4gW5VE90Duoa"
   },
   "source": [
    "###Scalar product"
   ]
  },
  {
   "cell_type": "markdown",
   "metadata": {
    "id": "cXmNwBXlEXNY"
   },
   "source": [
    "Scallar dot in $\\mathbb{R}^{n}$ of two vectors $x = (x_{1}, \\dots, x_{n})$ и $y = (y_{1}, \\dots, y_{n})$ is:\n",
    "\n",
    "$$\n",
    "\\langle x, y \\rangle = \\sum_{i=1}^n x_{i} y_{i}.\n",
    "$$"
   ]
  },
  {
   "cell_type": "code",
   "metadata": {
    "id": "sy4kkhS-D9cq",
    "ExecuteTime": {
     "end_time": "2024-10-04T08:34:47.949416Z",
     "start_time": "2024-10-04T08:34:47.939212Z"
    }
   },
   "source": [
    "print('Scalar dot of a and b: {dot}'.format(dot = np.dot(a, b)))"
   ],
   "outputs": [
    {
     "name": "stdout",
     "output_type": "stream",
     "text": [
      "Scalar dot of a and b: 2188\n"
     ]
    }
   ],
   "execution_count": 60
  },
  {
   "cell_type": "code",
   "metadata": {
    "id": "K9JuBQn9EwLv",
    "ExecuteTime": {
     "end_time": "2024-10-04T08:34:48.201227Z",
     "start_time": "2024-10-04T08:34:48.189190Z"
    }
   },
   "source": [
    "# another way\n",
    "print('Scalar dot of a and b: {dot}'.format(dot = a.dot(b)))"
   ],
   "outputs": [
    {
     "name": "stdout",
     "output_type": "stream",
     "text": [
      "Scalar dot of a and b: 2188\n"
     ]
    }
   ],
   "execution_count": 61
  },
  {
   "cell_type": "markdown",
   "metadata": {
    "id": "5obT7WeGFDwc"
   },
   "source": [
    "## Numpy: matrix"
   ]
  },
  {
   "cell_type": "markdown",
   "metadata": {
    "id": "dQ5q5zH6FNhn"
   },
   "source": [
    "### Basics"
   ]
  },
  {
   "cell_type": "code",
   "metadata": {
    "id": "InOjO737FCbE",
    "ExecuteTime": {
     "end_time": "2024-10-04T08:34:48.651492Z",
     "start_time": "2024-10-04T08:34:48.638994Z"
    }
   },
   "source": [
    "import numpy as np"
   ],
   "outputs": [],
   "execution_count": 62
  },
  {
   "cell_type": "code",
   "metadata": {
    "id": "Mc6AdwveFXkX",
    "ExecuteTime": {
     "end_time": "2024-10-04T08:34:48.877096Z",
     "start_time": "2024-10-04T08:34:48.864165Z"
    }
   },
   "source": [
    "a = np.array([[1, 2, 3], [2, 5, 6], [6, 7, 4]])\n",
    "print(a)"
   ],
   "outputs": [
    {
     "name": "stdout",
     "output_type": "stream",
     "text": [
      "[[1 2 3]\n",
      " [2 5 6]\n",
      " [6 7 4]]\n"
     ]
    }
   ],
   "execution_count": 63
  },
  {
   "cell_type": "code",
   "metadata": {
    "id": "64bo4aL9FXmr",
    "ExecuteTime": {
     "end_time": "2024-10-04T08:34:49.289057Z",
     "start_time": "2024-10-04T08:34:49.270542Z"
    }
   },
   "source": [
    "# more examples\n",
    "b = np.eye(15)\n",
    "print(b)"
   ],
   "outputs": [
    {
     "name": "stdout",
     "output_type": "stream",
     "text": [
      "[[1. 0. 0. 0. 0. 0. 0. 0. 0. 0. 0. 0. 0. 0. 0.]\n",
      " [0. 1. 0. 0. 0. 0. 0. 0. 0. 0. 0. 0. 0. 0. 0.]\n",
      " [0. 0. 1. 0. 0. 0. 0. 0. 0. 0. 0. 0. 0. 0. 0.]\n",
      " [0. 0. 0. 1. 0. 0. 0. 0. 0. 0. 0. 0. 0. 0. 0.]\n",
      " [0. 0. 0. 0. 1. 0. 0. 0. 0. 0. 0. 0. 0. 0. 0.]\n",
      " [0. 0. 0. 0. 0. 1. 0. 0. 0. 0. 0. 0. 0. 0. 0.]\n",
      " [0. 0. 0. 0. 0. 0. 1. 0. 0. 0. 0. 0. 0. 0. 0.]\n",
      " [0. 0. 0. 0. 0. 0. 0. 1. 0. 0. 0. 0. 0. 0. 0.]\n",
      " [0. 0. 0. 0. 0. 0. 0. 0. 1. 0. 0. 0. 0. 0. 0.]\n",
      " [0. 0. 0. 0. 0. 0. 0. 0. 0. 1. 0. 0. 0. 0. 0.]\n",
      " [0. 0. 0. 0. 0. 0. 0. 0. 0. 0. 1. 0. 0. 0. 0.]\n",
      " [0. 0. 0. 0. 0. 0. 0. 0. 0. 0. 0. 1. 0. 0. 0.]\n",
      " [0. 0. 0. 0. 0. 0. 0. 0. 0. 0. 0. 0. 1. 0. 0.]\n",
      " [0. 0. 0. 0. 0. 0. 0. 0. 0. 0. 0. 0. 0. 1. 0.]\n",
      " [0. 0. 0. 0. 0. 0. 0. 0. 0. 0. 0. 0. 0. 0. 1.]]\n"
     ]
    }
   ],
   "execution_count": 64
  },
  {
   "cell_type": "code",
   "metadata": {
    "id": "V7Ml_k6JFhnQ",
    "ExecuteTime": {
     "end_time": "2024-10-04T08:34:49.498720Z",
     "start_time": "2024-10-04T08:34:49.489094Z"
    }
   },
   "source": [
    "c = np.ones((7, 5))\n",
    "print(c)"
   ],
   "outputs": [
    {
     "name": "stdout",
     "output_type": "stream",
     "text": [
      "[[1. 1. 1. 1. 1.]\n",
      " [1. 1. 1. 1. 1.]\n",
      " [1. 1. 1. 1. 1.]\n",
      " [1. 1. 1. 1. 1.]\n",
      " [1. 1. 1. 1. 1.]\n",
      " [1. 1. 1. 1. 1.]\n",
      " [1. 1. 1. 1. 1.]]\n"
     ]
    }
   ],
   "execution_count": 65
  },
  {
   "cell_type": "code",
   "metadata": {
    "id": "R4jyYVtXFlxn",
    "ExecuteTime": {
     "end_time": "2024-10-04T08:34:49.865560Z",
     "start_time": "2024-10-04T08:34:49.855271Z"
    }
   },
   "source": [
    "v = np.arange(0, 24, 2)\n",
    "print(v)\n",
    "d = v.reshape((3, 4))\n",
    "print(d)"
   ],
   "outputs": [
    {
     "name": "stdout",
     "output_type": "stream",
     "text": [
      "[ 0  2  4  6  8 10 12 14 16 18 20 22]\n",
      "[[ 0  2  4  6]\n",
      " [ 8 10 12 14]\n",
      " [16 18 20 22]]\n"
     ]
    }
   ],
   "execution_count": 66
  },
  {
   "cell_type": "code",
   "metadata": {
    "id": "aJefjzA0Fsq7",
    "ExecuteTime": {
     "end_time": "2024-10-04T08:34:50.071855Z",
     "start_time": "2024-10-04T08:34:50.059350Z"
    }
   },
   "source": [
    "# indexes\n",
    "print(d)\n",
    "print(d[2, 1])\n",
    "print(d[1, :])\n",
    "print(d[:, 3])"
   ],
   "outputs": [
    {
     "name": "stdout",
     "output_type": "stream",
     "text": [
      "[[ 0  2  4  6]\n",
      " [ 8 10 12 14]\n",
      " [16 18 20 22]]\n",
      "18\n",
      "[ 8 10 12 14]\n",
      "[ 6 14 22]\n"
     ]
    }
   ],
   "execution_count": 67
  },
  {
   "cell_type": "markdown",
   "metadata": {
    "id": "uTnUGmqHGZps"
   },
   "source": [
    "### Matrix and vectors multiplication"
   ]
  },
  {
   "cell_type": "code",
   "metadata": {
    "id": "rJMB3P2TGxJ8",
    "ExecuteTime": {
     "end_time": "2024-10-04T08:34:50.393912Z",
     "start_time": "2024-10-04T08:34:50.382807Z"
    }
   },
   "source": [
    "import numpy as np\n",
    "a = np.array([[1, 0], [0, 1]])\n",
    "b = np.array([[4, 1], [2, 2]])\n",
    "r1 = np.dot(a, b)\n",
    "r2 = a.dot(b)"
   ],
   "outputs": [],
   "execution_count": 68
  },
  {
   "cell_type": "code",
   "metadata": {
    "id": "6r7MMrXnGxMb",
    "colab": {
     "base_uri": "https://localhost:8080/"
    },
    "outputId": "819525bd-8aa7-443f-ae4c-59f576cab5e7",
    "ExecuteTime": {
     "end_time": "2024-10-04T08:34:50.615586Z",
     "start_time": "2024-10-04T08:34:50.600165Z"
    }
   },
   "source": [
    "print('Matrix a:\\n', a)\n",
    "print('Matrix b:\\n', b)\n",
    "print('Multiplication, 1 method:\\n', r1)\n",
    "print('Multiplication, 2 method:\\n', r2)"
   ],
   "outputs": [
    {
     "name": "stdout",
     "output_type": "stream",
     "text": [
      "Matrix a:\n",
      " [[1 0]\n",
      " [0 1]]\n",
      "Matrix b:\n",
      " [[4 1]\n",
      " [2 2]]\n",
      "Multiplication, 1 method:\n",
      " [[4 1]\n",
      " [2 2]]\n",
      "Multiplication, 2 method:\n",
      " [[4 1]\n",
      " [2 2]]\n"
     ]
    }
   ],
   "execution_count": 69
  },
  {
   "cell_type": "code",
   "metadata": {
    "id": "beyqE1-qHJT2",
    "ExecuteTime": {
     "end_time": "2024-10-04T08:34:50.961451Z",
     "start_time": "2024-10-04T08:34:50.949257Z"
    }
   },
   "source": [
    "c = np.array([1,2])\n",
    "r3 = b.dot(c)"
   ],
   "outputs": [],
   "execution_count": 70
  },
  {
   "cell_type": "code",
   "metadata": {
    "id": "0Qu-0TqjHPr2",
    "ExecuteTime": {
     "end_time": "2024-10-04T08:34:51.162423Z",
     "start_time": "2024-10-04T08:34:51.153474Z"
    }
   },
   "source": [
    "print('Matrix a:\\n', a)\n",
    "print('Vector c:\\n', c)\n",
    "print('Multiplication:\\n', r3)"
   ],
   "outputs": [
    {
     "name": "stdout",
     "output_type": "stream",
     "text": [
      "Matrix a:\n",
      " [[1 0]\n",
      " [0 1]]\n",
      "Vector c:\n",
      " [1 2]\n",
      "Multiplication:\n",
      " [6 6]\n"
     ]
    }
   ],
   "execution_count": 71
  },
  {
   "cell_type": "markdown",
   "metadata": {
    "id": "7qySmp6cHm3B"
   },
   "source": [
    "### Transposition"
   ]
  },
  {
   "cell_type": "code",
   "source": [],
   "metadata": {
    "id": "xR0pJ0KO1yVx",
    "ExecuteTime": {
     "end_time": "2024-10-04T08:34:51.494628Z",
     "start_time": "2024-10-04T08:34:51.489074Z"
    }
   },
   "outputs": [],
   "execution_count": 71
  },
  {
   "cell_type": "code",
   "metadata": {
    "id": "QUtZ2VopHW-q",
    "ExecuteTime": {
     "end_time": "2024-10-04T08:34:51.742692Z",
     "start_time": "2024-10-04T08:34:51.732315Z"
    }
   },
   "source": [
    "a = np.array([[1, 2], [3, 4]])\n",
    "b = np.transpose(a)\n",
    "c = a.T"
   ],
   "outputs": [],
   "execution_count": 72
  },
  {
   "cell_type": "code",
   "metadata": {
    "id": "iXdbfhiEHyVR",
    "ExecuteTime": {
     "end_time": "2024-10-04T08:34:52.225056Z",
     "start_time": "2024-10-04T08:34:52.211643Z"
    }
   },
   "source": [
    "print('Matrix a:\\n', a)\n",
    "print('Transposed matrix:\\n', b)\n",
    "print('Transposed matrix:\\n', c)"
   ],
   "outputs": [
    {
     "name": "stdout",
     "output_type": "stream",
     "text": [
      "Matrix a:\n",
      " [[1 2]\n",
      " [3 4]]\n",
      "Transposed matrix:\n",
      " [[1 3]\n",
      " [2 4]]\n",
      "Transposed matrix:\n",
      " [[1 3]\n",
      " [2 4]]\n"
     ]
    }
   ],
   "execution_count": 73
  },
  {
   "cell_type": "markdown",
   "metadata": {
    "id": "IyK3zWZTJUo7"
   },
   "source": [
    "### Determinant"
   ]
  },
  {
   "cell_type": "code",
   "metadata": {
    "id": "c07n-6-PJYM4",
    "ExecuteTime": {
     "end_time": "2024-10-04T08:34:52.378174Z",
     "start_time": "2024-10-04T08:34:52.368844Z"
    }
   },
   "source": [
    "a = np.array([[1, 2, 1], [1, 1, 4], [2, 3, 6]], dtype=np.float32)\n",
    "det = np.linalg.det(a)"
   ],
   "outputs": [],
   "execution_count": 74
  },
  {
   "cell_type": "code",
   "metadata": {
    "id": "X2zKxWe1H8Gu",
    "ExecuteTime": {
     "end_time": "2024-10-04T08:34:52.689718Z",
     "start_time": "2024-10-04T08:34:52.678940Z"
    }
   },
   "source": [
    "print('Matrix a:\\n', a)\n",
    "print('Determinant of a:\\n', det)"
   ],
   "outputs": [
    {
     "name": "stdout",
     "output_type": "stream",
     "text": [
      "Matrix a:\n",
      " [[1. 2. 1.]\n",
      " [1. 1. 4.]\n",
      " [2. 3. 6.]]\n",
      "Determinant of a:\n",
      " -1.0\n"
     ]
    }
   ],
   "execution_count": 75
  },
  {
   "cell_type": "markdown",
   "metadata": {
    "id": "bPKMsOWSJmue"
   },
   "source": [
    "### Rank"
   ]
  },
  {
   "cell_type": "code",
   "metadata": {
    "id": "us01AB98JmMp",
    "ExecuteTime": {
     "end_time": "2024-10-04T08:34:52.903823Z",
     "start_time": "2024-10-04T08:34:52.891694Z"
    }
   },
   "source": [
    "a = np.array([[1, 2, 3], [1, 1, 1], [2, 2, 2]])\n",
    "r = np.linalg.matrix_rank(a)"
   ],
   "outputs": [],
   "execution_count": 76
  },
  {
   "cell_type": "code",
   "metadata": {
    "id": "5kX_eTgzb6F8",
    "ExecuteTime": {
     "end_time": "2024-10-04T08:34:53.262642Z",
     "start_time": "2024-10-04T08:34:53.251414Z"
    }
   },
   "source": [
    "print('Matrix a:\\n', a)\n",
    "print('Rank of a:\\n', r)"
   ],
   "outputs": [
    {
     "name": "stdout",
     "output_type": "stream",
     "text": [
      "Matrix a:\n",
      " [[1 2 3]\n",
      " [1 1 1]\n",
      " [2 2 2]]\n",
      "Rank of a:\n",
      " 2\n"
     ]
    }
   ],
   "execution_count": 77
  },
  {
   "cell_type": "code",
   "metadata": {
    "id": "tawXZXGpb-aa",
    "ExecuteTime": {
     "end_time": "2024-10-04T08:34:53.464905Z",
     "start_time": "2024-10-04T08:34:53.450294Z"
    }
   },
   "source": [
    "# check if systems of vectors is linearly independent\n",
    "a = np.array([1, 2, 3])\n",
    "b = np.array([1, 1, 1])\n",
    "c = np.array([2, 3, 5])\n",
    "m = np.array([a, b, c])\n",
    "\n",
    "print(np.linalg.matrix_rank(m) == m.shape[0])"
   ],
   "outputs": [
    {
     "name": "stdout",
     "output_type": "stream",
     "text": [
      "True\n"
     ]
    }
   ],
   "execution_count": 78
  },
  {
   "cell_type": "markdown",
   "metadata": {
    "id": "l2vhfbMzcvuf"
   },
   "source": [
    "### System of linear equations"
   ]
  },
  {
   "cell_type": "code",
   "metadata": {
    "id": "eCledrclchIK",
    "ExecuteTime": {
     "end_time": "2024-10-04T08:34:53.732273Z",
     "start_time": "2024-10-04T08:34:53.719212Z"
    }
   },
   "source": [
    "a = np.array([[3, 1], [1, 2]])\n",
    "b = np.array([9, 8])\n",
    "x = np.linalg.solve(a, b)\n"
   ],
   "outputs": [],
   "execution_count": 79
  },
  {
   "cell_type": "code",
   "metadata": {
    "id": "hXotSum6dMBe",
    "colab": {
     "base_uri": "https://localhost:8080/"
    },
    "outputId": "7f204437-acf4-4b3e-ccbe-feab4a9e2397",
    "ExecuteTime": {
     "end_time": "2024-10-04T08:34:53.924010Z",
     "start_time": "2024-10-04T08:34:53.909072Z"
    }
   },
   "source": [
    "print('Matrix a:\\n', a)\n",
    "print('Matrix b:\\n', b)\n",
    "print('Solution:\\n', x)"
   ],
   "outputs": [
    {
     "name": "stdout",
     "output_type": "stream",
     "text": [
      "Matrix a:\n",
      " [[3 1]\n",
      " [1 2]]\n",
      "Matrix b:\n",
      " [9 8]\n",
      "Solution:\n",
      " [2. 3.]\n"
     ]
    }
   ],
   "execution_count": 80
  },
  {
   "cell_type": "markdown",
   "metadata": {
    "id": "sq6-S8OBdeuf"
   },
   "source": [
    "### Invertible matrix"
   ]
  },
  {
   "cell_type": "code",
   "metadata": {
    "id": "egrVtkSIdYBR",
    "ExecuteTime": {
     "end_time": "2024-10-04T08:34:54.269820Z",
     "start_time": "2024-10-04T08:34:54.259219Z"
    }
   },
   "source": [
    "a = np.array([[1, 2, 1], [1, 1, 4], [2, 3, 6]], dtype=np.float32)\n",
    "b = np.linalg.inv(a)"
   ],
   "outputs": [],
   "execution_count": 81
  },
  {
   "cell_type": "code",
   "metadata": {
    "id": "2b8obiJad3e8",
    "ExecuteTime": {
     "end_time": "2024-10-04T08:34:54.455385Z",
     "start_time": "2024-10-04T08:34:54.439293Z"
    }
   },
   "source": [
    "print('Matrix a:\\n', a)\n",
    "print('Invertible matrix b:\\n', b)\n",
    "print('Identity matrix:\\n', a.dot(b))"
   ],
   "outputs": [
    {
     "name": "stdout",
     "output_type": "stream",
     "text": [
      "Matrix a:\n",
      " [[1. 2. 1.]\n",
      " [1. 1. 4.]\n",
      " [2. 3. 6.]]\n",
      "Invertible matrix b:\n",
      " [[ 6.  9. -7.]\n",
      " [-2. -4.  3.]\n",
      " [-1. -1.  1.]]\n",
      "Identity matrix:\n",
      " [[1. 0. 0.]\n",
      " [0. 1. 0.]\n",
      " [0. 0. 1.]]\n"
     ]
    }
   ],
   "execution_count": 82
  },
  {
   "cell_type": "markdown",
   "metadata": {
    "id": "nbQYCf8MfHPc"
   },
   "source": [
    "# Pandas"
   ]
  },
  {
   "cell_type": "markdown",
   "metadata": {
    "id": "lLJXvxOYfleX"
   },
   "source": [
    "## Basics"
   ]
  },
  {
   "cell_type": "code",
   "metadata": {
    "id": "tzhflgCVeb9h",
    "ExecuteTime": {
     "end_time": "2024-10-04T08:34:54.911900Z",
     "start_time": "2024-10-04T08:34:54.900169Z"
    }
   },
   "source": [
    "import pandas as pd"
   ],
   "outputs": [],
   "execution_count": 83
  },
  {
   "cell_type": "code",
   "metadata": {
    "id": "EhyqiSfvvSjD",
    "colab": {
     "base_uri": "https://localhost:8080/"
    },
    "outputId": "4940cebd-f57a-4066-9c49-6fbee9d286a2",
    "ExecuteTime": {
     "end_time": "2024-10-04T08:34:55.079435Z",
     "start_time": "2024-10-04T08:34:55.073850Z"
    }
   },
   "source": [
    "# from google.colab import drive\n",
    "# drive.mount('/content/drive/')"
   ],
   "outputs": [],
   "execution_count": 84
  },
  {
   "cell_type": "code",
   "metadata": {
    "id": "EQ4digCYfoNh",
    "ExecuteTime": {
     "end_time": "2024-10-04T08:34:55.705128Z",
     "start_time": "2024-10-04T08:34:55.489254Z"
    }
   },
   "source": [
    "# read csv file\n",
    "\n",
    "# df = pd.read_csv('/content/drive/My Drive/MLT materials February 2023 ITMO/Notebooks and data/Basics, numpy and pandas/RegularSeasonCompactResults.csv')\n",
    "df = pd.read_csv('RegularSeasonCompactResults.csv')"
   ],
   "outputs": [],
   "execution_count": 85
  },
  {
   "cell_type": "code",
   "metadata": {
    "id": "WSSZph86MJNb",
    "colab": {
     "base_uri": "https://localhost:8080/",
     "height": 419
    },
    "outputId": "264491f3-4854-4eae-a9a5-69941b6ea3e6",
    "ExecuteTime": {
     "end_time": "2024-10-04T08:34:55.741119Z",
     "start_time": "2024-10-04T08:34:55.709167Z"
    }
   },
   "source": [
    "df"
   ],
   "outputs": [
    {
     "data": {
      "text/plain": [
       "        Season  Daynum  Wteam  Wscore  Lteam  Lscore Wloc  Numot\n",
       "0         1985      20   1228      81   1328      64    N      0\n",
       "1         1985      25   1106      77   1354      70    H      0\n",
       "2         1985      25   1112      63   1223      56    H      0\n",
       "3         1985      25   1165      70   1432      54    H      0\n",
       "4         1985      25   1192      86   1447      74    H      0\n",
       "...        ...     ...    ...     ...    ...     ...  ...    ...\n",
       "145284    2016     132   1114      70   1419      50    N      0\n",
       "145285    2016     132   1163      72   1272      58    N      0\n",
       "145286    2016     132   1246      82   1401      77    N      1\n",
       "145287    2016     132   1277      66   1345      62    N      0\n",
       "145288    2016     132   1386      87   1433      74    N      0\n",
       "\n",
       "[145289 rows x 8 columns]"
      ],
      "text/html": [
       "<div>\n",
       "<style scoped>\n",
       "    .dataframe tbody tr th:only-of-type {\n",
       "        vertical-align: middle;\n",
       "    }\n",
       "\n",
       "    .dataframe tbody tr th {\n",
       "        vertical-align: top;\n",
       "    }\n",
       "\n",
       "    .dataframe thead th {\n",
       "        text-align: right;\n",
       "    }\n",
       "</style>\n",
       "<table border=\"1\" class=\"dataframe\">\n",
       "  <thead>\n",
       "    <tr style=\"text-align: right;\">\n",
       "      <th></th>\n",
       "      <th>Season</th>\n",
       "      <th>Daynum</th>\n",
       "      <th>Wteam</th>\n",
       "      <th>Wscore</th>\n",
       "      <th>Lteam</th>\n",
       "      <th>Lscore</th>\n",
       "      <th>Wloc</th>\n",
       "      <th>Numot</th>\n",
       "    </tr>\n",
       "  </thead>\n",
       "  <tbody>\n",
       "    <tr>\n",
       "      <th>0</th>\n",
       "      <td>1985</td>\n",
       "      <td>20</td>\n",
       "      <td>1228</td>\n",
       "      <td>81</td>\n",
       "      <td>1328</td>\n",
       "      <td>64</td>\n",
       "      <td>N</td>\n",
       "      <td>0</td>\n",
       "    </tr>\n",
       "    <tr>\n",
       "      <th>1</th>\n",
       "      <td>1985</td>\n",
       "      <td>25</td>\n",
       "      <td>1106</td>\n",
       "      <td>77</td>\n",
       "      <td>1354</td>\n",
       "      <td>70</td>\n",
       "      <td>H</td>\n",
       "      <td>0</td>\n",
       "    </tr>\n",
       "    <tr>\n",
       "      <th>2</th>\n",
       "      <td>1985</td>\n",
       "      <td>25</td>\n",
       "      <td>1112</td>\n",
       "      <td>63</td>\n",
       "      <td>1223</td>\n",
       "      <td>56</td>\n",
       "      <td>H</td>\n",
       "      <td>0</td>\n",
       "    </tr>\n",
       "    <tr>\n",
       "      <th>3</th>\n",
       "      <td>1985</td>\n",
       "      <td>25</td>\n",
       "      <td>1165</td>\n",
       "      <td>70</td>\n",
       "      <td>1432</td>\n",
       "      <td>54</td>\n",
       "      <td>H</td>\n",
       "      <td>0</td>\n",
       "    </tr>\n",
       "    <tr>\n",
       "      <th>4</th>\n",
       "      <td>1985</td>\n",
       "      <td>25</td>\n",
       "      <td>1192</td>\n",
       "      <td>86</td>\n",
       "      <td>1447</td>\n",
       "      <td>74</td>\n",
       "      <td>H</td>\n",
       "      <td>0</td>\n",
       "    </tr>\n",
       "    <tr>\n",
       "      <th>...</th>\n",
       "      <td>...</td>\n",
       "      <td>...</td>\n",
       "      <td>...</td>\n",
       "      <td>...</td>\n",
       "      <td>...</td>\n",
       "      <td>...</td>\n",
       "      <td>...</td>\n",
       "      <td>...</td>\n",
       "    </tr>\n",
       "    <tr>\n",
       "      <th>145284</th>\n",
       "      <td>2016</td>\n",
       "      <td>132</td>\n",
       "      <td>1114</td>\n",
       "      <td>70</td>\n",
       "      <td>1419</td>\n",
       "      <td>50</td>\n",
       "      <td>N</td>\n",
       "      <td>0</td>\n",
       "    </tr>\n",
       "    <tr>\n",
       "      <th>145285</th>\n",
       "      <td>2016</td>\n",
       "      <td>132</td>\n",
       "      <td>1163</td>\n",
       "      <td>72</td>\n",
       "      <td>1272</td>\n",
       "      <td>58</td>\n",
       "      <td>N</td>\n",
       "      <td>0</td>\n",
       "    </tr>\n",
       "    <tr>\n",
       "      <th>145286</th>\n",
       "      <td>2016</td>\n",
       "      <td>132</td>\n",
       "      <td>1246</td>\n",
       "      <td>82</td>\n",
       "      <td>1401</td>\n",
       "      <td>77</td>\n",
       "      <td>N</td>\n",
       "      <td>1</td>\n",
       "    </tr>\n",
       "    <tr>\n",
       "      <th>145287</th>\n",
       "      <td>2016</td>\n",
       "      <td>132</td>\n",
       "      <td>1277</td>\n",
       "      <td>66</td>\n",
       "      <td>1345</td>\n",
       "      <td>62</td>\n",
       "      <td>N</td>\n",
       "      <td>0</td>\n",
       "    </tr>\n",
       "    <tr>\n",
       "      <th>145288</th>\n",
       "      <td>2016</td>\n",
       "      <td>132</td>\n",
       "      <td>1386</td>\n",
       "      <td>87</td>\n",
       "      <td>1433</td>\n",
       "      <td>74</td>\n",
       "      <td>N</td>\n",
       "      <td>0</td>\n",
       "    </tr>\n",
       "  </tbody>\n",
       "</table>\n",
       "<p>145289 rows × 8 columns</p>\n",
       "</div>"
      ]
     },
     "execution_count": 86,
     "metadata": {},
     "output_type": "execute_result"
    }
   ],
   "execution_count": 86
  },
  {
   "cell_type": "code",
   "metadata": {
    "id": "rEgrguWgfpyZ",
    "colab": {
     "base_uri": "https://localhost:8080/",
     "height": 359
    },
    "outputId": "938379f8-b2a3-4899-f755-1b2e5092e589",
    "ExecuteTime": {
     "end_time": "2024-10-04T08:34:56.019958Z",
     "start_time": "2024-10-04T08:34:55.999435Z"
    }
   },
   "source": [
    "# see the first 5 rows\n",
    "df.head(10)"
   ],
   "outputs": [
    {
     "data": {
      "text/plain": [
       "   Season  Daynum  Wteam  Wscore  Lteam  Lscore Wloc  Numot\n",
       "0    1985      20   1228      81   1328      64    N      0\n",
       "1    1985      25   1106      77   1354      70    H      0\n",
       "2    1985      25   1112      63   1223      56    H      0\n",
       "3    1985      25   1165      70   1432      54    H      0\n",
       "4    1985      25   1192      86   1447      74    H      0\n",
       "5    1985      25   1218      79   1337      78    H      0\n",
       "6    1985      25   1228      64   1226      44    N      0\n",
       "7    1985      25   1242      58   1268      56    N      0\n",
       "8    1985      25   1260      98   1133      80    H      0\n",
       "9    1985      25   1305      97   1424      89    H      0"
      ],
      "text/html": [
       "<div>\n",
       "<style scoped>\n",
       "    .dataframe tbody tr th:only-of-type {\n",
       "        vertical-align: middle;\n",
       "    }\n",
       "\n",
       "    .dataframe tbody tr th {\n",
       "        vertical-align: top;\n",
       "    }\n",
       "\n",
       "    .dataframe thead th {\n",
       "        text-align: right;\n",
       "    }\n",
       "</style>\n",
       "<table border=\"1\" class=\"dataframe\">\n",
       "  <thead>\n",
       "    <tr style=\"text-align: right;\">\n",
       "      <th></th>\n",
       "      <th>Season</th>\n",
       "      <th>Daynum</th>\n",
       "      <th>Wteam</th>\n",
       "      <th>Wscore</th>\n",
       "      <th>Lteam</th>\n",
       "      <th>Lscore</th>\n",
       "      <th>Wloc</th>\n",
       "      <th>Numot</th>\n",
       "    </tr>\n",
       "  </thead>\n",
       "  <tbody>\n",
       "    <tr>\n",
       "      <th>0</th>\n",
       "      <td>1985</td>\n",
       "      <td>20</td>\n",
       "      <td>1228</td>\n",
       "      <td>81</td>\n",
       "      <td>1328</td>\n",
       "      <td>64</td>\n",
       "      <td>N</td>\n",
       "      <td>0</td>\n",
       "    </tr>\n",
       "    <tr>\n",
       "      <th>1</th>\n",
       "      <td>1985</td>\n",
       "      <td>25</td>\n",
       "      <td>1106</td>\n",
       "      <td>77</td>\n",
       "      <td>1354</td>\n",
       "      <td>70</td>\n",
       "      <td>H</td>\n",
       "      <td>0</td>\n",
       "    </tr>\n",
       "    <tr>\n",
       "      <th>2</th>\n",
       "      <td>1985</td>\n",
       "      <td>25</td>\n",
       "      <td>1112</td>\n",
       "      <td>63</td>\n",
       "      <td>1223</td>\n",
       "      <td>56</td>\n",
       "      <td>H</td>\n",
       "      <td>0</td>\n",
       "    </tr>\n",
       "    <tr>\n",
       "      <th>3</th>\n",
       "      <td>1985</td>\n",
       "      <td>25</td>\n",
       "      <td>1165</td>\n",
       "      <td>70</td>\n",
       "      <td>1432</td>\n",
       "      <td>54</td>\n",
       "      <td>H</td>\n",
       "      <td>0</td>\n",
       "    </tr>\n",
       "    <tr>\n",
       "      <th>4</th>\n",
       "      <td>1985</td>\n",
       "      <td>25</td>\n",
       "      <td>1192</td>\n",
       "      <td>86</td>\n",
       "      <td>1447</td>\n",
       "      <td>74</td>\n",
       "      <td>H</td>\n",
       "      <td>0</td>\n",
       "    </tr>\n",
       "    <tr>\n",
       "      <th>5</th>\n",
       "      <td>1985</td>\n",
       "      <td>25</td>\n",
       "      <td>1218</td>\n",
       "      <td>79</td>\n",
       "      <td>1337</td>\n",
       "      <td>78</td>\n",
       "      <td>H</td>\n",
       "      <td>0</td>\n",
       "    </tr>\n",
       "    <tr>\n",
       "      <th>6</th>\n",
       "      <td>1985</td>\n",
       "      <td>25</td>\n",
       "      <td>1228</td>\n",
       "      <td>64</td>\n",
       "      <td>1226</td>\n",
       "      <td>44</td>\n",
       "      <td>N</td>\n",
       "      <td>0</td>\n",
       "    </tr>\n",
       "    <tr>\n",
       "      <th>7</th>\n",
       "      <td>1985</td>\n",
       "      <td>25</td>\n",
       "      <td>1242</td>\n",
       "      <td>58</td>\n",
       "      <td>1268</td>\n",
       "      <td>56</td>\n",
       "      <td>N</td>\n",
       "      <td>0</td>\n",
       "    </tr>\n",
       "    <tr>\n",
       "      <th>8</th>\n",
       "      <td>1985</td>\n",
       "      <td>25</td>\n",
       "      <td>1260</td>\n",
       "      <td>98</td>\n",
       "      <td>1133</td>\n",
       "      <td>80</td>\n",
       "      <td>H</td>\n",
       "      <td>0</td>\n",
       "    </tr>\n",
       "    <tr>\n",
       "      <th>9</th>\n",
       "      <td>1985</td>\n",
       "      <td>25</td>\n",
       "      <td>1305</td>\n",
       "      <td>97</td>\n",
       "      <td>1424</td>\n",
       "      <td>89</td>\n",
       "      <td>H</td>\n",
       "      <td>0</td>\n",
       "    </tr>\n",
       "  </tbody>\n",
       "</table>\n",
       "</div>"
      ]
     },
     "execution_count": 87,
     "metadata": {},
     "output_type": "execute_result"
    }
   ],
   "execution_count": 87
  },
  {
   "cell_type": "code",
   "metadata": {
    "id": "-6kA5BLYg45S",
    "ExecuteTime": {
     "end_time": "2024-10-04T08:34:56.129715Z",
     "start_time": "2024-10-04T08:34:56.119023Z"
    }
   },
   "source": [
    "# see the last 5 rows\n",
    "df2  = df.tail(12)"
   ],
   "outputs": [],
   "execution_count": 88
  },
  {
   "cell_type": "code",
   "metadata": {
    "id": "76IPEFdihHvf",
    "colab": {
     "base_uri": "https://localhost:8080/"
    },
    "outputId": "23a36660-2e2b-45ff-eba4-39c000dd64bd",
    "ExecuteTime": {
     "end_time": "2024-10-04T08:34:56.548390Z",
     "start_time": "2024-10-04T08:34:56.531999Z"
    }
   },
   "source": [
    "# see the dimensions of the dataframe\n",
    "df.shape"
   ],
   "outputs": [
    {
     "data": {
      "text/plain": [
       "(145289, 8)"
      ]
     },
     "execution_count": 89,
     "metadata": {},
     "output_type": "execute_result"
    }
   ],
   "execution_count": 89
  },
  {
   "cell_type": "code",
   "metadata": {
    "id": "lOqlB3-3hOFz",
    "colab": {
     "base_uri": "https://localhost:8080/"
    },
    "outputId": "ba30de00-46f4-4db4-d73a-88493fc8a139",
    "ExecuteTime": {
     "end_time": "2024-10-04T08:34:57.000722Z",
     "start_time": "2024-10-04T08:34:56.989306Z"
    }
   },
   "source": [
    "# extract all the column names as a list\n",
    "df.columns.tolist()"
   ],
   "outputs": [
    {
     "data": {
      "text/plain": [
       "['Season', 'Daynum', 'Wteam', 'Wscore', 'Lteam', 'Lscore', 'Wloc', 'Numot']"
      ]
     },
     "execution_count": 90,
     "metadata": {},
     "output_type": "execute_result"
    }
   ],
   "execution_count": 90
  },
  {
   "cell_type": "code",
   "metadata": {
    "id": "emF_dnbXhXrm",
    "colab": {
     "base_uri": "https://localhost:8080/",
     "height": 297
    },
    "outputId": "17465fa4-4607-48ab-c270-f840c994ea3e",
    "ExecuteTime": {
     "end_time": "2024-10-04T08:34:57.489502Z",
     "start_time": "2024-10-04T08:34:57.350914Z"
    }
   },
   "source": [
    "# see statistics like mean, min, etc about each column of the dataset\n",
    "df.describe()"
   ],
   "outputs": [
    {
     "data": {
      "text/plain": [
       "              Season         Daynum          Wteam         Wscore  \\\n",
       "count  145289.000000  145289.000000  145289.000000  145289.000000   \n",
       "mean     2001.574834      75.223816    1286.720646      76.600321   \n",
       "std         9.233342      33.287418     104.570275      12.173033   \n",
       "min      1985.000000       0.000000    1101.000000      34.000000   \n",
       "25%      1994.000000      47.000000    1198.000000      68.000000   \n",
       "50%      2002.000000      78.000000    1284.000000      76.000000   \n",
       "75%      2010.000000     103.000000    1379.000000      84.000000   \n",
       "max      2016.000000     132.000000    1464.000000     186.000000   \n",
       "\n",
       "               Lteam         Lscore          Numot  \n",
       "count  145289.000000  145289.000000  145289.000000  \n",
       "mean     1282.864064      64.497009       0.044387  \n",
       "std       104.829234      11.380625       0.247819  \n",
       "min      1101.000000      20.000000       0.000000  \n",
       "25%      1191.000000      57.000000       0.000000  \n",
       "50%      1280.000000      64.000000       0.000000  \n",
       "75%      1375.000000      72.000000       0.000000  \n",
       "max      1464.000000     150.000000       6.000000  "
      ],
      "text/html": [
       "<div>\n",
       "<style scoped>\n",
       "    .dataframe tbody tr th:only-of-type {\n",
       "        vertical-align: middle;\n",
       "    }\n",
       "\n",
       "    .dataframe tbody tr th {\n",
       "        vertical-align: top;\n",
       "    }\n",
       "\n",
       "    .dataframe thead th {\n",
       "        text-align: right;\n",
       "    }\n",
       "</style>\n",
       "<table border=\"1\" class=\"dataframe\">\n",
       "  <thead>\n",
       "    <tr style=\"text-align: right;\">\n",
       "      <th></th>\n",
       "      <th>Season</th>\n",
       "      <th>Daynum</th>\n",
       "      <th>Wteam</th>\n",
       "      <th>Wscore</th>\n",
       "      <th>Lteam</th>\n",
       "      <th>Lscore</th>\n",
       "      <th>Numot</th>\n",
       "    </tr>\n",
       "  </thead>\n",
       "  <tbody>\n",
       "    <tr>\n",
       "      <th>count</th>\n",
       "      <td>145289.000000</td>\n",
       "      <td>145289.000000</td>\n",
       "      <td>145289.000000</td>\n",
       "      <td>145289.000000</td>\n",
       "      <td>145289.000000</td>\n",
       "      <td>145289.000000</td>\n",
       "      <td>145289.000000</td>\n",
       "    </tr>\n",
       "    <tr>\n",
       "      <th>mean</th>\n",
       "      <td>2001.574834</td>\n",
       "      <td>75.223816</td>\n",
       "      <td>1286.720646</td>\n",
       "      <td>76.600321</td>\n",
       "      <td>1282.864064</td>\n",
       "      <td>64.497009</td>\n",
       "      <td>0.044387</td>\n",
       "    </tr>\n",
       "    <tr>\n",
       "      <th>std</th>\n",
       "      <td>9.233342</td>\n",
       "      <td>33.287418</td>\n",
       "      <td>104.570275</td>\n",
       "      <td>12.173033</td>\n",
       "      <td>104.829234</td>\n",
       "      <td>11.380625</td>\n",
       "      <td>0.247819</td>\n",
       "    </tr>\n",
       "    <tr>\n",
       "      <th>min</th>\n",
       "      <td>1985.000000</td>\n",
       "      <td>0.000000</td>\n",
       "      <td>1101.000000</td>\n",
       "      <td>34.000000</td>\n",
       "      <td>1101.000000</td>\n",
       "      <td>20.000000</td>\n",
       "      <td>0.000000</td>\n",
       "    </tr>\n",
       "    <tr>\n",
       "      <th>25%</th>\n",
       "      <td>1994.000000</td>\n",
       "      <td>47.000000</td>\n",
       "      <td>1198.000000</td>\n",
       "      <td>68.000000</td>\n",
       "      <td>1191.000000</td>\n",
       "      <td>57.000000</td>\n",
       "      <td>0.000000</td>\n",
       "    </tr>\n",
       "    <tr>\n",
       "      <th>50%</th>\n",
       "      <td>2002.000000</td>\n",
       "      <td>78.000000</td>\n",
       "      <td>1284.000000</td>\n",
       "      <td>76.000000</td>\n",
       "      <td>1280.000000</td>\n",
       "      <td>64.000000</td>\n",
       "      <td>0.000000</td>\n",
       "    </tr>\n",
       "    <tr>\n",
       "      <th>75%</th>\n",
       "      <td>2010.000000</td>\n",
       "      <td>103.000000</td>\n",
       "      <td>1379.000000</td>\n",
       "      <td>84.000000</td>\n",
       "      <td>1375.000000</td>\n",
       "      <td>72.000000</td>\n",
       "      <td>0.000000</td>\n",
       "    </tr>\n",
       "    <tr>\n",
       "      <th>max</th>\n",
       "      <td>2016.000000</td>\n",
       "      <td>132.000000</td>\n",
       "      <td>1464.000000</td>\n",
       "      <td>186.000000</td>\n",
       "      <td>1464.000000</td>\n",
       "      <td>150.000000</td>\n",
       "      <td>6.000000</td>\n",
       "    </tr>\n",
       "  </tbody>\n",
       "</table>\n",
       "</div>"
      ]
     },
     "execution_count": 91,
     "metadata": {},
     "output_type": "execute_result"
    }
   ],
   "execution_count": 91
  },
  {
   "cell_type": "code",
   "metadata": {
    "id": "_9P8taY_hg9K",
    "colab": {
     "base_uri": "https://localhost:8080/",
     "height": 331
    },
    "outputId": "8865d5cc-8552-4b67-9923-431d5e7657c8",
    "ExecuteTime": {
     "end_time": "2024-10-04T08:34:57.770218Z",
     "start_time": "2024-10-04T08:34:57.727390Z"
    }
   },
   "source": [
    "# get the maximum values of all columns\n",
    "df.max()"
   ],
   "outputs": [
    {
     "data": {
      "text/plain": [
       "Season    2016\n",
       "Daynum     132\n",
       "Wteam     1464\n",
       "Wscore     186\n",
       "Lteam     1464\n",
       "Lscore     150\n",
       "Wloc         N\n",
       "Numot        6\n",
       "dtype: object"
      ]
     },
     "execution_count": 92,
     "metadata": {},
     "output_type": "execute_result"
    }
   ],
   "execution_count": 92
  },
  {
   "cell_type": "code",
   "metadata": {
    "id": "utTenVUeh6h8",
    "colab": {
     "base_uri": "https://localhost:8080/"
    },
    "outputId": "c0151992-c275-4ce6-d51c-218fa9b519b3",
    "ExecuteTime": {
     "end_time": "2024-10-04T08:34:57.903609Z",
     "start_time": "2024-10-04T08:34:57.889096Z"
    }
   },
   "source": [
    "# get the max value for a particular column\n",
    "df['Wscore'].min() # or mean(), median(), min(), argmax()"
   ],
   "outputs": [
    {
     "data": {
      "text/plain": [
       "np.int64(34)"
      ]
     },
     "execution_count": 93,
     "metadata": {},
     "output_type": "execute_result"
    }
   ],
   "execution_count": 93
  },
  {
   "cell_type": "code",
   "metadata": {
    "id": "vTGjDnetiDzG",
    "colab": {
     "base_uri": "https://localhost:8080/"
    },
    "outputId": "32f8fe56-4267-4923-f2ba-4fed88ca749b",
    "ExecuteTime": {
     "end_time": "2024-10-04T08:34:58.231899Z",
     "start_time": "2024-10-04T08:34:58.209358Z"
    }
   },
   "source": [
    "# get frequency of each item in the column\n",
    "print(len(df['Wscore'].unique()))\n",
    "print(len(df['Wteam'].unique()))\n",
    "print(len(df['Season'].unique()))"
   ],
   "outputs": [
    {
     "name": "stdout",
     "output_type": "stream",
     "text": [
      "130\n",
      "364\n",
      "32\n"
     ]
    }
   ],
   "execution_count": 94
  },
  {
   "cell_type": "markdown",
   "metadata": {
    "id": "54eehlbAi0L-"
   },
   "source": [
    "## Sorting Values"
   ]
  },
  {
   "cell_type": "code",
   "metadata": {
    "id": "ubsnomqXiPnS",
    "colab": {
     "base_uri": "https://localhost:8080/",
     "height": 1000
    },
    "outputId": "a0d9c0a7-ff2a-4bad-e397-4614714ded0a",
    "collapsed": true,
    "ExecuteTime": {
     "end_time": "2024-10-04T08:34:58.763006Z",
     "start_time": "2024-10-04T08:34:58.699036Z"
    }
   },
   "source": [
    "# sorting the dataframe in increasing order for the scores of the losing team\n",
    "df.sort_values('Wscore', ascending = True).head(30) # ascending = True"
   ],
   "outputs": [
    {
     "data": {
      "text/plain": [
       "        Season  Daynum  Wteam  Wscore  Lteam  Lscore Wloc  Numot\n",
       "128582    2013     116   1264      34   1193      31    H      0\n",
       "5364      1986      77   1229      35   1166      34    A      0\n",
       "69336     2001     126   1206      35   1423      33    N      0\n",
       "20246     1990      47   1374      36   1426      31    H      0\n",
       "118590    2011     130   1336      36   1458      33    N      0\n",
       "82204     2004     105   1410      37   1102      35    H      0\n",
       "2420      1985      96   1436      37   1159      34    H      0\n",
       "83797     2005      29   1450      37   1225      36    A      0\n",
       "60633     2000      19   1343      37   1284      35    H      0\n",
       "124864    2013      25   1207      37   1397      36    H      0\n",
       "84598     2005      52   1253      38   1232      37    N      0\n",
       "52123     1998      16   1343      38   1301      36    N      0\n",
       "124682    2013      19   1447      38   1300      36    A      0\n",
       "79103     2004      27   1127      38   1149      34    N      0\n",
       "139915    2015     132   1209      38   1204      36    N      0\n",
       "107084    2009     107   1336      38   1228      33    A      0\n",
       "92163     2006     117   1390      39   1450      37    A      0\n",
       "125967    2013      58   1442      39   1366      35    H      0\n",
       "102337    2008     117   1288      39   1175      36    A      0\n",
       "124142    2013       9   1201      39   1415      30    A      0\n",
       "124663    2013      19   1366      39   1442      38    H      0\n",
       "21129     1990      74   1463      39   1343      37    H      0\n",
       "81940     2004     100   1321      40   1345      39    A      0\n",
       "33643     1993      82   1153      40   1412      38    H      0\n",
       "142899    2016      80   1158      40   1406      37    A      0\n",
       "83677     2005      26   1343      40   1248      38    A      0\n",
       "72549     2002      96   1225      40   1364      37    H      0\n",
       "93371     2007      26   1321      40   1316      39    H      0\n",
       "135401    2015      26   1300      40   1319      36    N      0\n",
       "127930    2013     101   1359      40   1459      33    H      0"
      ],
      "text/html": [
       "<div>\n",
       "<style scoped>\n",
       "    .dataframe tbody tr th:only-of-type {\n",
       "        vertical-align: middle;\n",
       "    }\n",
       "\n",
       "    .dataframe tbody tr th {\n",
       "        vertical-align: top;\n",
       "    }\n",
       "\n",
       "    .dataframe thead th {\n",
       "        text-align: right;\n",
       "    }\n",
       "</style>\n",
       "<table border=\"1\" class=\"dataframe\">\n",
       "  <thead>\n",
       "    <tr style=\"text-align: right;\">\n",
       "      <th></th>\n",
       "      <th>Season</th>\n",
       "      <th>Daynum</th>\n",
       "      <th>Wteam</th>\n",
       "      <th>Wscore</th>\n",
       "      <th>Lteam</th>\n",
       "      <th>Lscore</th>\n",
       "      <th>Wloc</th>\n",
       "      <th>Numot</th>\n",
       "    </tr>\n",
       "  </thead>\n",
       "  <tbody>\n",
       "    <tr>\n",
       "      <th>128582</th>\n",
       "      <td>2013</td>\n",
       "      <td>116</td>\n",
       "      <td>1264</td>\n",
       "      <td>34</td>\n",
       "      <td>1193</td>\n",
       "      <td>31</td>\n",
       "      <td>H</td>\n",
       "      <td>0</td>\n",
       "    </tr>\n",
       "    <tr>\n",
       "      <th>5364</th>\n",
       "      <td>1986</td>\n",
       "      <td>77</td>\n",
       "      <td>1229</td>\n",
       "      <td>35</td>\n",
       "      <td>1166</td>\n",
       "      <td>34</td>\n",
       "      <td>A</td>\n",
       "      <td>0</td>\n",
       "    </tr>\n",
       "    <tr>\n",
       "      <th>69336</th>\n",
       "      <td>2001</td>\n",
       "      <td>126</td>\n",
       "      <td>1206</td>\n",
       "      <td>35</td>\n",
       "      <td>1423</td>\n",
       "      <td>33</td>\n",
       "      <td>N</td>\n",
       "      <td>0</td>\n",
       "    </tr>\n",
       "    <tr>\n",
       "      <th>20246</th>\n",
       "      <td>1990</td>\n",
       "      <td>47</td>\n",
       "      <td>1374</td>\n",
       "      <td>36</td>\n",
       "      <td>1426</td>\n",
       "      <td>31</td>\n",
       "      <td>H</td>\n",
       "      <td>0</td>\n",
       "    </tr>\n",
       "    <tr>\n",
       "      <th>118590</th>\n",
       "      <td>2011</td>\n",
       "      <td>130</td>\n",
       "      <td>1336</td>\n",
       "      <td>36</td>\n",
       "      <td>1458</td>\n",
       "      <td>33</td>\n",
       "      <td>N</td>\n",
       "      <td>0</td>\n",
       "    </tr>\n",
       "    <tr>\n",
       "      <th>82204</th>\n",
       "      <td>2004</td>\n",
       "      <td>105</td>\n",
       "      <td>1410</td>\n",
       "      <td>37</td>\n",
       "      <td>1102</td>\n",
       "      <td>35</td>\n",
       "      <td>H</td>\n",
       "      <td>0</td>\n",
       "    </tr>\n",
       "    <tr>\n",
       "      <th>2420</th>\n",
       "      <td>1985</td>\n",
       "      <td>96</td>\n",
       "      <td>1436</td>\n",
       "      <td>37</td>\n",
       "      <td>1159</td>\n",
       "      <td>34</td>\n",
       "      <td>H</td>\n",
       "      <td>0</td>\n",
       "    </tr>\n",
       "    <tr>\n",
       "      <th>83797</th>\n",
       "      <td>2005</td>\n",
       "      <td>29</td>\n",
       "      <td>1450</td>\n",
       "      <td>37</td>\n",
       "      <td>1225</td>\n",
       "      <td>36</td>\n",
       "      <td>A</td>\n",
       "      <td>0</td>\n",
       "    </tr>\n",
       "    <tr>\n",
       "      <th>60633</th>\n",
       "      <td>2000</td>\n",
       "      <td>19</td>\n",
       "      <td>1343</td>\n",
       "      <td>37</td>\n",
       "      <td>1284</td>\n",
       "      <td>35</td>\n",
       "      <td>H</td>\n",
       "      <td>0</td>\n",
       "    </tr>\n",
       "    <tr>\n",
       "      <th>124864</th>\n",
       "      <td>2013</td>\n",
       "      <td>25</td>\n",
       "      <td>1207</td>\n",
       "      <td>37</td>\n",
       "      <td>1397</td>\n",
       "      <td>36</td>\n",
       "      <td>H</td>\n",
       "      <td>0</td>\n",
       "    </tr>\n",
       "    <tr>\n",
       "      <th>84598</th>\n",
       "      <td>2005</td>\n",
       "      <td>52</td>\n",
       "      <td>1253</td>\n",
       "      <td>38</td>\n",
       "      <td>1232</td>\n",
       "      <td>37</td>\n",
       "      <td>N</td>\n",
       "      <td>0</td>\n",
       "    </tr>\n",
       "    <tr>\n",
       "      <th>52123</th>\n",
       "      <td>1998</td>\n",
       "      <td>16</td>\n",
       "      <td>1343</td>\n",
       "      <td>38</td>\n",
       "      <td>1301</td>\n",
       "      <td>36</td>\n",
       "      <td>N</td>\n",
       "      <td>0</td>\n",
       "    </tr>\n",
       "    <tr>\n",
       "      <th>124682</th>\n",
       "      <td>2013</td>\n",
       "      <td>19</td>\n",
       "      <td>1447</td>\n",
       "      <td>38</td>\n",
       "      <td>1300</td>\n",
       "      <td>36</td>\n",
       "      <td>A</td>\n",
       "      <td>0</td>\n",
       "    </tr>\n",
       "    <tr>\n",
       "      <th>79103</th>\n",
       "      <td>2004</td>\n",
       "      <td>27</td>\n",
       "      <td>1127</td>\n",
       "      <td>38</td>\n",
       "      <td>1149</td>\n",
       "      <td>34</td>\n",
       "      <td>N</td>\n",
       "      <td>0</td>\n",
       "    </tr>\n",
       "    <tr>\n",
       "      <th>139915</th>\n",
       "      <td>2015</td>\n",
       "      <td>132</td>\n",
       "      <td>1209</td>\n",
       "      <td>38</td>\n",
       "      <td>1204</td>\n",
       "      <td>36</td>\n",
       "      <td>N</td>\n",
       "      <td>0</td>\n",
       "    </tr>\n",
       "    <tr>\n",
       "      <th>107084</th>\n",
       "      <td>2009</td>\n",
       "      <td>107</td>\n",
       "      <td>1336</td>\n",
       "      <td>38</td>\n",
       "      <td>1228</td>\n",
       "      <td>33</td>\n",
       "      <td>A</td>\n",
       "      <td>0</td>\n",
       "    </tr>\n",
       "    <tr>\n",
       "      <th>92163</th>\n",
       "      <td>2006</td>\n",
       "      <td>117</td>\n",
       "      <td>1390</td>\n",
       "      <td>39</td>\n",
       "      <td>1450</td>\n",
       "      <td>37</td>\n",
       "      <td>A</td>\n",
       "      <td>0</td>\n",
       "    </tr>\n",
       "    <tr>\n",
       "      <th>125967</th>\n",
       "      <td>2013</td>\n",
       "      <td>58</td>\n",
       "      <td>1442</td>\n",
       "      <td>39</td>\n",
       "      <td>1366</td>\n",
       "      <td>35</td>\n",
       "      <td>H</td>\n",
       "      <td>0</td>\n",
       "    </tr>\n",
       "    <tr>\n",
       "      <th>102337</th>\n",
       "      <td>2008</td>\n",
       "      <td>117</td>\n",
       "      <td>1288</td>\n",
       "      <td>39</td>\n",
       "      <td>1175</td>\n",
       "      <td>36</td>\n",
       "      <td>A</td>\n",
       "      <td>0</td>\n",
       "    </tr>\n",
       "    <tr>\n",
       "      <th>124142</th>\n",
       "      <td>2013</td>\n",
       "      <td>9</td>\n",
       "      <td>1201</td>\n",
       "      <td>39</td>\n",
       "      <td>1415</td>\n",
       "      <td>30</td>\n",
       "      <td>A</td>\n",
       "      <td>0</td>\n",
       "    </tr>\n",
       "    <tr>\n",
       "      <th>124663</th>\n",
       "      <td>2013</td>\n",
       "      <td>19</td>\n",
       "      <td>1366</td>\n",
       "      <td>39</td>\n",
       "      <td>1442</td>\n",
       "      <td>38</td>\n",
       "      <td>H</td>\n",
       "      <td>0</td>\n",
       "    </tr>\n",
       "    <tr>\n",
       "      <th>21129</th>\n",
       "      <td>1990</td>\n",
       "      <td>74</td>\n",
       "      <td>1463</td>\n",
       "      <td>39</td>\n",
       "      <td>1343</td>\n",
       "      <td>37</td>\n",
       "      <td>H</td>\n",
       "      <td>0</td>\n",
       "    </tr>\n",
       "    <tr>\n",
       "      <th>81940</th>\n",
       "      <td>2004</td>\n",
       "      <td>100</td>\n",
       "      <td>1321</td>\n",
       "      <td>40</td>\n",
       "      <td>1345</td>\n",
       "      <td>39</td>\n",
       "      <td>A</td>\n",
       "      <td>0</td>\n",
       "    </tr>\n",
       "    <tr>\n",
       "      <th>33643</th>\n",
       "      <td>1993</td>\n",
       "      <td>82</td>\n",
       "      <td>1153</td>\n",
       "      <td>40</td>\n",
       "      <td>1412</td>\n",
       "      <td>38</td>\n",
       "      <td>H</td>\n",
       "      <td>0</td>\n",
       "    </tr>\n",
       "    <tr>\n",
       "      <th>142899</th>\n",
       "      <td>2016</td>\n",
       "      <td>80</td>\n",
       "      <td>1158</td>\n",
       "      <td>40</td>\n",
       "      <td>1406</td>\n",
       "      <td>37</td>\n",
       "      <td>A</td>\n",
       "      <td>0</td>\n",
       "    </tr>\n",
       "    <tr>\n",
       "      <th>83677</th>\n",
       "      <td>2005</td>\n",
       "      <td>26</td>\n",
       "      <td>1343</td>\n",
       "      <td>40</td>\n",
       "      <td>1248</td>\n",
       "      <td>38</td>\n",
       "      <td>A</td>\n",
       "      <td>0</td>\n",
       "    </tr>\n",
       "    <tr>\n",
       "      <th>72549</th>\n",
       "      <td>2002</td>\n",
       "      <td>96</td>\n",
       "      <td>1225</td>\n",
       "      <td>40</td>\n",
       "      <td>1364</td>\n",
       "      <td>37</td>\n",
       "      <td>H</td>\n",
       "      <td>0</td>\n",
       "    </tr>\n",
       "    <tr>\n",
       "      <th>93371</th>\n",
       "      <td>2007</td>\n",
       "      <td>26</td>\n",
       "      <td>1321</td>\n",
       "      <td>40</td>\n",
       "      <td>1316</td>\n",
       "      <td>39</td>\n",
       "      <td>H</td>\n",
       "      <td>0</td>\n",
       "    </tr>\n",
       "    <tr>\n",
       "      <th>135401</th>\n",
       "      <td>2015</td>\n",
       "      <td>26</td>\n",
       "      <td>1300</td>\n",
       "      <td>40</td>\n",
       "      <td>1319</td>\n",
       "      <td>36</td>\n",
       "      <td>N</td>\n",
       "      <td>0</td>\n",
       "    </tr>\n",
       "    <tr>\n",
       "      <th>127930</th>\n",
       "      <td>2013</td>\n",
       "      <td>101</td>\n",
       "      <td>1359</td>\n",
       "      <td>40</td>\n",
       "      <td>1459</td>\n",
       "      <td>33</td>\n",
       "      <td>H</td>\n",
       "      <td>0</td>\n",
       "    </tr>\n",
       "  </tbody>\n",
       "</table>\n",
       "</div>"
      ]
     },
     "execution_count": 95,
     "metadata": {},
     "output_type": "execute_result"
    }
   ],
   "execution_count": 95
  },
  {
   "source": [
    "from matplotlib import pyplot as plt\n",
    "df['Season'].plot(kind='line', figsize=(8, 4), title='Season')\n",
    "plt.gca().spines[['top', 'right']].set_visible(False)"
   ],
   "cell_type": "code",
   "metadata": {
    "id": "cQ-pK-ooYMyt",
    "outputId": "e4f2fd2d-97e7-44ce-8689-f45d592d2e7b",
    "colab": {
     "base_uri": "https://localhost:8080/",
     "height": 391
    },
    "ExecuteTime": {
     "end_time": "2024-10-04T08:34:59.872271Z",
     "start_time": "2024-10-04T08:34:59.123007Z"
    }
   },
   "outputs": [
    {
     "data": {
      "text/plain": [
       "<Figure size 800x400 with 1 Axes>"
      ],
      "image/png": "[encoded data removed]"
     },
     "metadata": {},
     "output_type": "display_data"
    }
   ],
   "execution_count": 96
  },
  {
   "source": [
    "from matplotlib import pyplot as plt\n",
    "import seaborn as sns\n",
    "figsize = (12, 1.2 * len(df['Wloc'].unique()))\n",
    "plt.figure(figsize=figsize)\n",
    "sns.violinplot(df, x='Season', y='Wloc', inner='stick', palette='Dark2')\n",
    "sns.despine(top=True, right=True, bottom=True, left=True)"
   ],
   "cell_type": "code",
   "metadata": {
    "colab": {
     "base_uri": "https://localhost:8080/",
     "height": 442
    },
    "id": "Bc_p6G6VX4Fh",
    "outputId": "2aa3c6df-fb81-4d8a-8a6a-1289d53c4343",
    "ExecuteTime": {
     "end_time": "2024-10-04T08:35:19.025064Z",
     "start_time": "2024-10-04T08:34:59.872271Z"
    }
   },
   "outputs": [
    {
     "name": "stderr",
     "output_type": "stream",
     "text": [
      "C:\\Users\\Ilia\\AppData\\Local\\Temp\\ipykernel_3472\\2343282677.py:5: FutureWarning: \n",
      "\n",
      "Passing `palette` without assigning `hue` is deprecated and will be removed in v0.14.0. Assign the `y` variable to `hue` and set `legend=False` for the same effect.\n",
      "\n",
      "  sns.violinplot(df, x='Season', y='Wloc', inner='stick', palette='Dark2')\n"
     ]
    },
    {
     "data": {
      "text/plain": [
       "<Figure size 1200x360 with 1 Axes>"
      ],
      "image/png": "[encoded data removed]"
     },
     "metadata": {},
     "output_type": "display_data"
    }
   ],
   "execution_count": 97
  },
  {
   "cell_type": "markdown",
   "metadata": {
    "id": "yjy1ip8rkHat"
   },
   "source": [
    "## Filtering Rows"
   ]
  },
  {
   "cell_type": "code",
   "metadata": {
    "id": "tQXvNrdti-j7",
    "ExecuteTime": {
     "end_time": "2024-10-04T08:35:19.039927Z",
     "start_time": "2024-10-04T08:35:19.029930Z"
    }
   },
   "source": [
    "# find which entries are above 150\n",
    "df3 = df[df['Lscore'] > 150]"
   ],
   "outputs": [],
   "execution_count": 98
  },
  {
   "cell_type": "code",
   "source": [
    "df3.shape"
   ],
   "metadata": {
    "id": "_bdzkC_qtpCq",
    "outputId": "2d6c68ac-2ae4-475a-82ae-23dc04c9e1cc",
    "colab": {
     "base_uri": "https://localhost:8080/"
    },
    "ExecuteTime": {
     "end_time": "2024-10-04T08:35:19.059235Z",
     "start_time": "2024-10-04T08:35:19.041513Z"
    }
   },
   "outputs": [
    {
     "data": {
      "text/plain": [
       "(0, 8)"
      ]
     },
     "execution_count": 99,
     "metadata": {},
     "output_type": "execute_result"
    }
   ],
   "execution_count": 99
  },
  {
   "cell_type": "code",
   "metadata": {
    "id": "x7yU-pjKi-mp",
    "colab": {
     "base_uri": "https://localhost:8080/",
     "height": 80
    },
    "outputId": "c5b8ce7a-470a-405a-d226-1ed79459309e",
    "ExecuteTime": {
     "end_time": "2024-10-04T08:35:19.088770Z",
     "start_time": "2024-10-04T08:35:19.059913Z"
    }
   },
   "source": [
    "# find out when the winning team scores more than 150 points and\n",
    "# when the losing team scores below 100.\n",
    "df2 = df[(df['Wscore'] > 100) & (df['Lscore'] < 30)]\n",
    "df2"
   ],
   "outputs": [
    {
     "data": {
      "text/plain": [
       "       Season  Daynum  Wteam  Wscore  Lteam  Lscore Wloc  Numot\n",
       "94507    2007      59   1401     101   1212      27    H      0"
      ],
      "text/html": [
       "<div>\n",
       "<style scoped>\n",
       "    .dataframe tbody tr th:only-of-type {\n",
       "        vertical-align: middle;\n",
       "    }\n",
       "\n",
       "    .dataframe tbody tr th {\n",
       "        vertical-align: top;\n",
       "    }\n",
       "\n",
       "    .dataframe thead th {\n",
       "        text-align: right;\n",
       "    }\n",
       "</style>\n",
       "<table border=\"1\" class=\"dataframe\">\n",
       "  <thead>\n",
       "    <tr style=\"text-align: right;\">\n",
       "      <th></th>\n",
       "      <th>Season</th>\n",
       "      <th>Daynum</th>\n",
       "      <th>Wteam</th>\n",
       "      <th>Wscore</th>\n",
       "      <th>Lteam</th>\n",
       "      <th>Lscore</th>\n",
       "      <th>Wloc</th>\n",
       "      <th>Numot</th>\n",
       "    </tr>\n",
       "  </thead>\n",
       "  <tbody>\n",
       "    <tr>\n",
       "      <th>94507</th>\n",
       "      <td>2007</td>\n",
       "      <td>59</td>\n",
       "      <td>1401</td>\n",
       "      <td>101</td>\n",
       "      <td>1212</td>\n",
       "      <td>27</td>\n",
       "      <td>H</td>\n",
       "      <td>0</td>\n",
       "    </tr>\n",
       "  </tbody>\n",
       "</table>\n",
       "</div>"
      ]
     },
     "execution_count": 100,
     "metadata": {},
     "output_type": "execute_result"
    }
   ],
   "execution_count": 100
  },
  {
   "cell_type": "markdown",
   "metadata": {
    "id": "RYaBE8w9kfO8"
   },
   "source": [
    "## Grouping"
   ]
  },
  {
   "cell_type": "code",
   "metadata": {
    "id": "yqx5AW6ziFdk",
    "ExecuteTime": {
     "end_time": "2024-10-04T08:35:19.105612Z",
     "start_time": "2024-10-04T08:35:19.089932Z"
    }
   },
   "source": [
    "df2.to_csv(\"df2_filtered.csv\")"
   ],
   "outputs": [],
   "execution_count": 101
  },
  {
   "cell_type": "code",
   "metadata": {
    "id": "ABCOtdqri-ua",
    "colab": {
     "base_uri": "https://localhost:8080/",
     "height": 424
    },
    "outputId": "7cead94f-3940-4b04-90d3-a4ccdc473633",
    "ExecuteTime": {
     "end_time": "2024-10-04T08:35:19.131610Z",
     "start_time": "2024-10-04T08:35:19.107375Z"
    }
   },
   "source": [
    "# get the mean Wscore of each Wteam\n",
    "df.groupby('Wteam')['Wscore'].mean().head(10)"
   ],
   "outputs": [
    {
     "data": {
      "text/plain": [
       "Wteam\n",
       "1101    78.111111\n",
       "1102    69.893204\n",
       "1103    75.839768\n",
       "1104    75.825944\n",
       "1105    74.960894\n",
       "1106    76.634518\n",
       "1107    70.804781\n",
       "1108    79.489865\n",
       "1109    90.428571\n",
       "1110    72.141844\n",
       "Name: Wscore, dtype: float64"
      ]
     },
     "execution_count": 102,
     "metadata": {},
     "output_type": "execute_result"
    }
   ],
   "execution_count": 102
  },
  {
   "cell_type": "code",
   "metadata": {
    "id": "TjQfMuRRkmN5",
    "colab": {
     "base_uri": "https://localhost:8080/",
     "height": 951
    },
    "outputId": "3ac7d5e9-3dc2-4cd7-b01e-47aaf318c36b",
    "ExecuteTime": {
     "end_time": "2024-10-04T08:35:19.180644Z",
     "start_time": "2024-10-04T08:35:19.134135Z"
    }
   },
   "source": [
    "# finds how many times that specific team won at home, on the road, or at a neutral site\n",
    "df.groupby('Wteam')['Wloc'].value_counts().head(27)"
   ],
   "outputs": [
    {
     "data": {
      "text/plain": [
       "Wteam  Wloc\n",
       "1101   H        12\n",
       "       A         3\n",
       "       N         3\n",
       "1102   H       204\n",
       "       A        73\n",
       "       N        32\n",
       "1103   H       324\n",
       "       A       153\n",
       "       N        41\n",
       "1104   H       391\n",
       "       A       116\n",
       "       N       102\n",
       "1105   H       104\n",
       "       A        64\n",
       "       N        11\n",
       "1106   H       217\n",
       "       A       137\n",
       "       N        40\n",
       "1107   H       135\n",
       "       A       105\n",
       "       N        11\n",
       "1108   H       169\n",
       "       A       102\n",
       "       N        25\n",
       "1109   H        36\n",
       "       A         3\n",
       "       N         3\n",
       "Name: count, dtype: int64"
      ]
     },
     "execution_count": 103,
     "metadata": {},
     "output_type": "execute_result"
    }
   ],
   "execution_count": 103
  },
  {
   "cell_type": "markdown",
   "metadata": {
    "id": "s_OR6UrEl3ko"
   },
   "source": [
    "## Extracting rows and columns"
   ]
  },
  {
   "cell_type": "code",
   "metadata": {
    "id": "1WbkJsAel8zg",
    "colab": {
     "base_uri": "https://localhost:8080/",
     "height": 247
    },
    "outputId": "c9fcadac-54e4-443a-cd77-d0dc2bf64e3a",
    "ExecuteTime": {
     "end_time": "2024-10-04T08:35:19.197866Z",
     "start_time": "2024-10-04T08:35:19.183680Z"
    }
   },
   "source": [
    "df2 = df[['Wscore', 'Lscore']].head()\n",
    "df2"
   ],
   "outputs": [
    {
     "data": {
      "text/plain": [
       "   Wscore  Lscore\n",
       "0      81      64\n",
       "1      77      70\n",
       "2      63      56\n",
       "3      70      54\n",
       "4      86      74"
      ],
      "text/html": [
       "<div>\n",
       "<style scoped>\n",
       "    .dataframe tbody tr th:only-of-type {\n",
       "        vertical-align: middle;\n",
       "    }\n",
       "\n",
       "    .dataframe tbody tr th {\n",
       "        vertical-align: top;\n",
       "    }\n",
       "\n",
       "    .dataframe thead th {\n",
       "        text-align: right;\n",
       "    }\n",
       "</style>\n",
       "<table border=\"1\" class=\"dataframe\">\n",
       "  <thead>\n",
       "    <tr style=\"text-align: right;\">\n",
       "      <th></th>\n",
       "      <th>Wscore</th>\n",
       "      <th>Lscore</th>\n",
       "    </tr>\n",
       "  </thead>\n",
       "  <tbody>\n",
       "    <tr>\n",
       "      <th>0</th>\n",
       "      <td>81</td>\n",
       "      <td>64</td>\n",
       "    </tr>\n",
       "    <tr>\n",
       "      <th>1</th>\n",
       "      <td>77</td>\n",
       "      <td>70</td>\n",
       "    </tr>\n",
       "    <tr>\n",
       "      <th>2</th>\n",
       "      <td>63</td>\n",
       "      <td>56</td>\n",
       "    </tr>\n",
       "    <tr>\n",
       "      <th>3</th>\n",
       "      <td>70</td>\n",
       "      <td>54</td>\n",
       "    </tr>\n",
       "    <tr>\n",
       "      <th>4</th>\n",
       "      <td>86</td>\n",
       "      <td>74</td>\n",
       "    </tr>\n",
       "  </tbody>\n",
       "</table>\n",
       "</div>"
      ]
     },
     "execution_count": 104,
     "metadata": {},
     "output_type": "execute_result"
    }
   ],
   "execution_count": 104
  },
  {
   "cell_type": "code",
   "metadata": {
    "id": "RrvLYHqFP7a4",
    "colab": {
     "base_uri": "https://localhost:8080/",
     "height": 142
    },
    "outputId": "1f2e3a50-5316-4851-af0d-d7834ade53de",
    "ExecuteTime": {
     "end_time": "2024-10-04T08:35:19.217594Z",
     "start_time": "2024-10-04T08:35:19.200559Z"
    }
   },
   "source": [
    "df2.iloc[:3, :1]"
   ],
   "outputs": [
    {
     "data": {
      "text/plain": [
       "   Wscore\n",
       "0      81\n",
       "1      77\n",
       "2      63"
      ],
      "text/html": [
       "<div>\n",
       "<style scoped>\n",
       "    .dataframe tbody tr th:only-of-type {\n",
       "        vertical-align: middle;\n",
       "    }\n",
       "\n",
       "    .dataframe tbody tr th {\n",
       "        vertical-align: top;\n",
       "    }\n",
       "\n",
       "    .dataframe thead th {\n",
       "        text-align: right;\n",
       "    }\n",
       "</style>\n",
       "<table border=\"1\" class=\"dataframe\">\n",
       "  <thead>\n",
       "    <tr style=\"text-align: right;\">\n",
       "      <th></th>\n",
       "      <th>Wscore</th>\n",
       "    </tr>\n",
       "  </thead>\n",
       "  <tbody>\n",
       "    <tr>\n",
       "      <th>0</th>\n",
       "      <td>81</td>\n",
       "    </tr>\n",
       "    <tr>\n",
       "      <th>1</th>\n",
       "      <td>77</td>\n",
       "    </tr>\n",
       "    <tr>\n",
       "      <th>2</th>\n",
       "      <td>63</td>\n",
       "    </tr>\n",
       "  </tbody>\n",
       "</table>\n",
       "</div>"
      ]
     },
     "execution_count": 105,
     "metadata": {},
     "output_type": "execute_result"
    }
   ],
   "execution_count": 105
  },
  {
   "cell_type": "code",
   "metadata": {
    "id": "1rlznmyrk7bK",
    "colab": {
     "base_uri": "https://localhost:8080/",
     "height": 142
    },
    "outputId": "c5952167-62c9-4ae9-eb71-8086a93cc669",
    "ExecuteTime": {
     "end_time": "2024-10-04T08:35:19.240277Z",
     "start_time": "2024-10-04T08:35:19.219628Z"
    }
   },
   "source": [
    "df2.loc[:2, ['Wscore']]"
   ],
   "outputs": [
    {
     "data": {
      "text/plain": [
       "   Wscore\n",
       "0      81\n",
       "1      77\n",
       "2      63"
      ],
      "text/html": [
       "<div>\n",
       "<style scoped>\n",
       "    .dataframe tbody tr th:only-of-type {\n",
       "        vertical-align: middle;\n",
       "    }\n",
       "\n",
       "    .dataframe tbody tr th {\n",
       "        vertical-align: top;\n",
       "    }\n",
       "\n",
       "    .dataframe thead th {\n",
       "        text-align: right;\n",
       "    }\n",
       "</style>\n",
       "<table border=\"1\" class=\"dataframe\">\n",
       "  <thead>\n",
       "    <tr style=\"text-align: right;\">\n",
       "      <th></th>\n",
       "      <th>Wscore</th>\n",
       "    </tr>\n",
       "  </thead>\n",
       "  <tbody>\n",
       "    <tr>\n",
       "      <th>0</th>\n",
       "      <td>81</td>\n",
       "    </tr>\n",
       "    <tr>\n",
       "      <th>1</th>\n",
       "      <td>77</td>\n",
       "    </tr>\n",
       "    <tr>\n",
       "      <th>2</th>\n",
       "      <td>63</td>\n",
       "    </tr>\n",
       "  </tbody>\n",
       "</table>\n",
       "</div>"
      ]
     },
     "execution_count": 106,
     "metadata": {},
     "output_type": "execute_result"
    }
   ],
   "execution_count": 106
  },
  {
   "source": [
    "from matplotlib import pyplot as plt\n",
    "df['Lscore'].plot(kind='line', figsize=(8, 4), title='Lscore')\n",
    "plt.gca().spines[['top', 'right']].set_visible(False)"
   ],
   "cell_type": "code",
   "metadata": {
    "id": "4M1_4AasJ0fr",
    "ExecuteTime": {
     "end_time": "2024-10-04T08:35:21.078700Z",
     "start_time": "2024-10-04T08:35:19.241297Z"
    }
   },
   "outputs": [
    {
     "data": {
      "text/plain": [
       "<Figure size 800x400 with 1 Axes>"
      ],
      "image/png": "[encoded data removed]"
     },
     "metadata": {},
     "output_type": "display_data"
    }
   ],
   "execution_count": 107
  },
  {
   "cell_type": "code",
   "metadata": {
    "id": "XbG3SEGvP6UK",
    "ExecuteTime": {
     "end_time": "2024-10-04T08:35:21.089481Z",
     "start_time": "2024-10-04T08:35:21.082820Z"
    }
   },
   "source": [],
   "outputs": [],
   "execution_count": 107
  },
  {
   "cell_type": "code",
   "metadata": {
    "id": "G4cvToVqmAGV",
    "ExecuteTime": {
     "end_time": "2024-10-04T08:35:21.111865Z",
     "start_time": "2024-10-04T08:35:21.092496Z"
    }
   },
   "source": [
    "df[0:3]"
   ],
   "outputs": [
    {
     "data": {
      "text/plain": [
       "   Season  Daynum  Wteam  Wscore  Lteam  Lscore Wloc  Numot\n",
       "0    1985      20   1228      81   1328      64    N      0\n",
       "1    1985      25   1106      77   1354      70    H      0\n",
       "2    1985      25   1112      63   1223      56    H      0"
      ],
      "text/html": [
       "<div>\n",
       "<style scoped>\n",
       "    .dataframe tbody tr th:only-of-type {\n",
       "        vertical-align: middle;\n",
       "    }\n",
       "\n",
       "    .dataframe tbody tr th {\n",
       "        vertical-align: top;\n",
       "    }\n",
       "\n",
       "    .dataframe thead th {\n",
       "        text-align: right;\n",
       "    }\n",
       "</style>\n",
       "<table border=\"1\" class=\"dataframe\">\n",
       "  <thead>\n",
       "    <tr style=\"text-align: right;\">\n",
       "      <th></th>\n",
       "      <th>Season</th>\n",
       "      <th>Daynum</th>\n",
       "      <th>Wteam</th>\n",
       "      <th>Wscore</th>\n",
       "      <th>Lteam</th>\n",
       "      <th>Lscore</th>\n",
       "      <th>Wloc</th>\n",
       "      <th>Numot</th>\n",
       "    </tr>\n",
       "  </thead>\n",
       "  <tbody>\n",
       "    <tr>\n",
       "      <th>0</th>\n",
       "      <td>1985</td>\n",
       "      <td>20</td>\n",
       "      <td>1228</td>\n",
       "      <td>81</td>\n",
       "      <td>1328</td>\n",
       "      <td>64</td>\n",
       "      <td>N</td>\n",
       "      <td>0</td>\n",
       "    </tr>\n",
       "    <tr>\n",
       "      <th>1</th>\n",
       "      <td>1985</td>\n",
       "      <td>25</td>\n",
       "      <td>1106</td>\n",
       "      <td>77</td>\n",
       "      <td>1354</td>\n",
       "      <td>70</td>\n",
       "      <td>H</td>\n",
       "      <td>0</td>\n",
       "    </tr>\n",
       "    <tr>\n",
       "      <th>2</th>\n",
       "      <td>1985</td>\n",
       "      <td>25</td>\n",
       "      <td>1112</td>\n",
       "      <td>63</td>\n",
       "      <td>1223</td>\n",
       "      <td>56</td>\n",
       "      <td>H</td>\n",
       "      <td>0</td>\n",
       "    </tr>\n",
       "  </tbody>\n",
       "</table>\n",
       "</div>"
      ]
     },
     "execution_count": 108,
     "metadata": {},
     "output_type": "execute_result"
    }
   ],
   "execution_count": 108
  },
  {
   "cell_type": "code",
   "metadata": {
    "id": "jcHukWkqmD6_",
    "ExecuteTime": {
     "end_time": "2024-10-04T08:35:21.144303Z",
     "start_time": "2024-10-04T08:35:21.115883Z"
    }
   },
   "source": [
    "df.iloc[100:120,1:10]\n"
   ],
   "outputs": [
    {
     "data": {
      "text/plain": [
       "     Daynum  Wteam  Wscore  Lteam  Lscore Wloc  Numot\n",
       "100      29   1409      86   1331      82    A      0\n",
       "101      29   1444      90   1434      57    A      0\n",
       "102      29   1451      89   1365      61    H      0\n",
       "103      30   1139      78   1442      67    A      0\n",
       "104      30   1154      78   1149      61    A      0\n",
       "105      30   1181      92   1456      60    H      0\n",
       "106      30   1228      81   1152      63    H      0\n",
       "107      30   1229      93   1227      62    H      0\n",
       "108      30   1234      89   1287      46    H      0\n",
       "109      30   1259      81   1406      73    A      0\n",
       "110      30   1261     102   1260      96    H      0\n",
       "111      30   1272      79   1117      62    H      0\n",
       "112      30   1273      84   1121      72    H      0\n",
       "113      30   1278      61   1163      60    H      0\n",
       "114      30   1318      71   1436      52    A      0\n",
       "115      30   1330      56   1440      50    H      0\n",
       "116      30   1360      80   1305      75    H      0\n",
       "117      30   1388      69   1247      59    H      0\n",
       "118      30   1393      65   1165      53    H      0\n",
       "119      30   1419      61   1418      60    H      0"
      ],
      "text/html": [
       "<div>\n",
       "<style scoped>\n",
       "    .dataframe tbody tr th:only-of-type {\n",
       "        vertical-align: middle;\n",
       "    }\n",
       "\n",
       "    .dataframe tbody tr th {\n",
       "        vertical-align: top;\n",
       "    }\n",
       "\n",
       "    .dataframe thead th {\n",
       "        text-align: right;\n",
       "    }\n",
       "</style>\n",
       "<table border=\"1\" class=\"dataframe\">\n",
       "  <thead>\n",
       "    <tr style=\"text-align: right;\">\n",
       "      <th></th>\n",
       "      <th>Daynum</th>\n",
       "      <th>Wteam</th>\n",
       "      <th>Wscore</th>\n",
       "      <th>Lteam</th>\n",
       "      <th>Lscore</th>\n",
       "      <th>Wloc</th>\n",
       "      <th>Numot</th>\n",
       "    </tr>\n",
       "  </thead>\n",
       "  <tbody>\n",
       "    <tr>\n",
       "      <th>100</th>\n",
       "      <td>29</td>\n",
       "      <td>1409</td>\n",
       "      <td>86</td>\n",
       "      <td>1331</td>\n",
       "      <td>82</td>\n",
       "      <td>A</td>\n",
       "      <td>0</td>\n",
       "    </tr>\n",
       "    <tr>\n",
       "      <th>101</th>\n",
       "      <td>29</td>\n",
       "      <td>1444</td>\n",
       "      <td>90</td>\n",
       "      <td>1434</td>\n",
       "      <td>57</td>\n",
       "      <td>A</td>\n",
       "      <td>0</td>\n",
       "    </tr>\n",
       "    <tr>\n",
       "      <th>102</th>\n",
       "      <td>29</td>\n",
       "      <td>1451</td>\n",
       "      <td>89</td>\n",
       "      <td>1365</td>\n",
       "      <td>61</td>\n",
       "      <td>H</td>\n",
       "      <td>0</td>\n",
       "    </tr>\n",
       "    <tr>\n",
       "      <th>103</th>\n",
       "      <td>30</td>\n",
       "      <td>1139</td>\n",
       "      <td>78</td>\n",
       "      <td>1442</td>\n",
       "      <td>67</td>\n",
       "      <td>A</td>\n",
       "      <td>0</td>\n",
       "    </tr>\n",
       "    <tr>\n",
       "      <th>104</th>\n",
       "      <td>30</td>\n",
       "      <td>1154</td>\n",
       "      <td>78</td>\n",
       "      <td>1149</td>\n",
       "      <td>61</td>\n",
       "      <td>A</td>\n",
       "      <td>0</td>\n",
       "    </tr>\n",
       "    <tr>\n",
       "      <th>105</th>\n",
       "      <td>30</td>\n",
       "      <td>1181</td>\n",
       "      <td>92</td>\n",
       "      <td>1456</td>\n",
       "      <td>60</td>\n",
       "      <td>H</td>\n",
       "      <td>0</td>\n",
       "    </tr>\n",
       "    <tr>\n",
       "      <th>106</th>\n",
       "      <td>30</td>\n",
       "      <td>1228</td>\n",
       "      <td>81</td>\n",
       "      <td>1152</td>\n",
       "      <td>63</td>\n",
       "      <td>H</td>\n",
       "      <td>0</td>\n",
       "    </tr>\n",
       "    <tr>\n",
       "      <th>107</th>\n",
       "      <td>30</td>\n",
       "      <td>1229</td>\n",
       "      <td>93</td>\n",
       "      <td>1227</td>\n",
       "      <td>62</td>\n",
       "      <td>H</td>\n",
       "      <td>0</td>\n",
       "    </tr>\n",
       "    <tr>\n",
       "      <th>108</th>\n",
       "      <td>30</td>\n",
       "      <td>1234</td>\n",
       "      <td>89</td>\n",
       "      <td>1287</td>\n",
       "      <td>46</td>\n",
       "      <td>H</td>\n",
       "      <td>0</td>\n",
       "    </tr>\n",
       "    <tr>\n",
       "      <th>109</th>\n",
       "      <td>30</td>\n",
       "      <td>1259</td>\n",
       "      <td>81</td>\n",
       "      <td>1406</td>\n",
       "      <td>73</td>\n",
       "      <td>A</td>\n",
       "      <td>0</td>\n",
       "    </tr>\n",
       "    <tr>\n",
       "      <th>110</th>\n",
       "      <td>30</td>\n",
       "      <td>1261</td>\n",
       "      <td>102</td>\n",
       "      <td>1260</td>\n",
       "      <td>96</td>\n",
       "      <td>H</td>\n",
       "      <td>0</td>\n",
       "    </tr>\n",
       "    <tr>\n",
       "      <th>111</th>\n",
       "      <td>30</td>\n",
       "      <td>1272</td>\n",
       "      <td>79</td>\n",
       "      <td>1117</td>\n",
       "      <td>62</td>\n",
       "      <td>H</td>\n",
       "      <td>0</td>\n",
       "    </tr>\n",
       "    <tr>\n",
       "      <th>112</th>\n",
       "      <td>30</td>\n",
       "      <td>1273</td>\n",
       "      <td>84</td>\n",
       "      <td>1121</td>\n",
       "      <td>72</td>\n",
       "      <td>H</td>\n",
       "      <td>0</td>\n",
       "    </tr>\n",
       "    <tr>\n",
       "      <th>113</th>\n",
       "      <td>30</td>\n",
       "      <td>1278</td>\n",
       "      <td>61</td>\n",
       "      <td>1163</td>\n",
       "      <td>60</td>\n",
       "      <td>H</td>\n",
       "      <td>0</td>\n",
       "    </tr>\n",
       "    <tr>\n",
       "      <th>114</th>\n",
       "      <td>30</td>\n",
       "      <td>1318</td>\n",
       "      <td>71</td>\n",
       "      <td>1436</td>\n",
       "      <td>52</td>\n",
       "      <td>A</td>\n",
       "      <td>0</td>\n",
       "    </tr>\n",
       "    <tr>\n",
       "      <th>115</th>\n",
       "      <td>30</td>\n",
       "      <td>1330</td>\n",
       "      <td>56</td>\n",
       "      <td>1440</td>\n",
       "      <td>50</td>\n",
       "      <td>H</td>\n",
       "      <td>0</td>\n",
       "    </tr>\n",
       "    <tr>\n",
       "      <th>116</th>\n",
       "      <td>30</td>\n",
       "      <td>1360</td>\n",
       "      <td>80</td>\n",
       "      <td>1305</td>\n",
       "      <td>75</td>\n",
       "      <td>H</td>\n",
       "      <td>0</td>\n",
       "    </tr>\n",
       "    <tr>\n",
       "      <th>117</th>\n",
       "      <td>30</td>\n",
       "      <td>1388</td>\n",
       "      <td>69</td>\n",
       "      <td>1247</td>\n",
       "      <td>59</td>\n",
       "      <td>H</td>\n",
       "      <td>0</td>\n",
       "    </tr>\n",
       "    <tr>\n",
       "      <th>118</th>\n",
       "      <td>30</td>\n",
       "      <td>1393</td>\n",
       "      <td>65</td>\n",
       "      <td>1165</td>\n",
       "      <td>53</td>\n",
       "      <td>H</td>\n",
       "      <td>0</td>\n",
       "    </tr>\n",
       "    <tr>\n",
       "      <th>119</th>\n",
       "      <td>30</td>\n",
       "      <td>1419</td>\n",
       "      <td>61</td>\n",
       "      <td>1418</td>\n",
       "      <td>60</td>\n",
       "      <td>H</td>\n",
       "      <td>0</td>\n",
       "    </tr>\n",
       "  </tbody>\n",
       "</table>\n",
       "</div>"
      ]
     },
     "execution_count": 109,
     "metadata": {},
     "output_type": "execute_result"
    }
   ],
   "execution_count": 109
  },
  {
   "cell_type": "code",
   "metadata": {
    "id": "EMjCcjhznFNH",
    "ExecuteTime": {
     "end_time": "2024-10-04T08:35:21.153976Z",
     "start_time": "2024-10-04T08:35:21.148323Z"
    }
   },
   "source": [],
   "outputs": [],
   "execution_count": 109
  },
  {
   "cell_type": "markdown",
   "metadata": {
    "id": "pv-jng6jmN2D"
   },
   "source": [
    "## Other resources"
   ]
  },
  {
   "cell_type": "markdown",
   "metadata": {
    "id": "WSVSXcVymLf3"
   },
   "source": [
    "Pandas has been around for a while and there are a lot of other good resources if you're still interested on getting the most out of this library.\n",
    "\n",
    "http://pandas.pydata.org/pandas-docs/stable/10min.html\n",
    "https://www.datacamp.com/community/tutorials/pandas-tutorial-dataframe-python\n",
    "http://www.gregreda.com/2013/10/26/intro-to-pandas-data-structures/\n",
    "https://www.dataquest.io/blog/pandas-python-tutorial/\n",
    "https://drive.google.com/file/d/0ByIrJAE4KMTtTUtiVExiUGVkRkE/view\n",
    "https://www.youtube.com/playlist?list=PL5-da3qGB5ICCsgW1MxlZ0Hq8LL5U3u9y"
   ]
  }
 ]
}
