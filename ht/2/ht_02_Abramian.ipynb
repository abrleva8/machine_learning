{
 "cells": [
  {
   "cell_type": "code",
   "execution_count": 19,
   "id": "79551282a624bc61",
   "metadata": {
    "ExecuteTime": {
     "end_time": "2024-11-08T20:56:22.867924Z",
     "start_time": "2024-11-08T20:56:22.861766Z"
    }
   },
   "outputs": [],
   "source": [
    "import nltk\n",
    "import re\n",
    "import requests\n",
    "import string\n",
    "\n",
    "from collections import Counter\n",
    "\n",
    "from nltk.corpus import stopwords\n",
    "from nltk.tokenize import WhitespaceTokenizer, sent_tokenize\n",
    "from nltk.stem import WordNetLemmatizer\n",
    "\n",
    "from sklearn.feature_extraction.text import TfidfVectorizer\n",
    "\n",
    "from tqdm.notebook import tqdm"
   ]
  },
  {
   "cell_type": "markdown",
   "id": "4ff83926ee4e455b",
   "metadata": {},
   "source": [
    "1. Download Alice in Wonderland"
   ]
  },
  {
   "cell_type": "code",
   "execution_count": 2,
   "id": "e729fedfef78a97a",
   "metadata": {
    "ExecuteTime": {
     "end_time": "2024-11-08T20:56:24.049828Z",
     "start_time": "2024-11-08T20:56:22.978578Z"
    }
   },
   "outputs": [],
   "source": [
    "url = \"http://www.gutenberg.org/files/11/11-0.txt\"\n",
    "response = requests.get(url)\n",
    "text = response.text"
   ]
  },
  {
   "cell_type": "markdown",
   "id": "9b328586-15fe-49ff-b764-7e45a0d81e46",
   "metadata": {},
   "source": [
    "2. Perform any necessary preprocessing on the text, including converting to lower case, removing stop words, numbers / non-alphabetic characters, lemmatization."
   ]
  },
  {
   "cell_type": "code",
   "execution_count": 3,
   "id": "10d155e8-ecf1-4659-b774-516ac4214b1c",
   "metadata": {
    "ExecuteTime": {
     "end_time": "2024-11-08T20:56:24.062460Z",
     "start_time": "2024-11-08T20:56:24.052361Z"
    }
   },
   "outputs": [],
   "source": [
    "def preprocessing(text: str) -> str:\n",
    "\n",
    "    text = re.sub(r'\\d+', '', text)  # Remove numbers\n",
    "    text = text.translate(str.maketrans('', '', string.punctuation))  # Remove punctuation\n",
    "    text = re.sub(r'\\W', ' ', text)  # Remove special character\n",
    "    \n",
    "    # Remove non-alphabetic characters\n",
    "    # text = re.sub(r'[^a-z\\s\\.]', '', text)\n",
    "\n",
    "    # Convert to lowercase\n",
    "    text = text.lower()\n",
    "\n",
    "    # Tokenize\n",
    "    tokens = WhitespaceTokenizer().tokenize(text)\n",
    "\n",
    "    # Lemmatize the text\n",
    "    lemmatizer = WordNetLemmatizer()\n",
    "    # stemmer = PorterStemmer()\n",
    "    text = ' '.join([lemmatizer.lemmatize(token) for token in tokens])\n",
    "    # text = ' '.join([stemmer.stem(token) for token in tokens])\n",
    "\n",
    "    # Remove stop words\n",
    "    stop_words = set(stopwords.words('english'))\n",
    "    text = ' '.join([word for word in text.split() if word not in stop_words and len(word) > 1])\n",
    "    \n",
    "    return text.replace('_', '').strip()"
   ]
  },
  {
   "cell_type": "code",
   "execution_count": 4,
   "id": "2e24d060-0621-4a87-8d30-f5d33e6190a7",
   "metadata": {
    "ExecuteTime": {
     "end_time": "2024-11-08T20:56:24.255206Z",
     "start_time": "2024-11-08T20:56:24.065004Z"
    }
   },
   "outputs": [],
   "source": [
    "text = preprocessing(text)"
   ]
  },
  {
   "cell_type": "code",
   "execution_count": 5,
   "id": "887201af-7264-488a-ba3d-3f0f1603f224",
   "metadata": {
    "ExecuteTime": {
     "end_time": "2024-11-08T20:56:24.262450Z",
     "start_time": "2024-11-08T20:56:24.257214Z"
    }
   },
   "outputs": [
    {
     "data": {
      "text/plain": [
       "25"
      ]
     },
     "execution_count": 5,
     "metadata": {},
     "output_type": "execute_result"
    }
   ],
   "source": [
    "len(text.split('chapter'))"
   ]
  },
  {
   "cell_type": "markdown",
   "id": "42f86685-dde3-48ce-b428-d937c62aead4",
   "metadata": {},
   "source": [
    "3. Find Top 10 most important (for example, in terms of TF-IDF metric) words from each chapter in the text (not \"Alice\"); how would you name each chapter according to the identified tokens?"
   ]
  },
  {
   "cell_type": "code",
   "execution_count": 6,
   "id": "a8e53477-defb-42d8-8ea9-7688d75f3bbe",
   "metadata": {
    "ExecuteTime": {
     "end_time": "2024-11-08T20:56:24.284604Z",
     "start_time": "2024-11-08T20:56:24.263457Z"
    }
   },
   "outputs": [],
   "source": [
    "chapter_pattern = r\"chapter\\s+\\w+\"\n",
    "chapters = re.split(chapter_pattern, text, flags=re.IGNORECASE)\n",
    "chapters = chapters[13:]\n",
    "# chapters = list(map(lambda x: x.strip(), chapters))"
   ]
  },
  {
   "cell_type": "code",
   "execution_count": 7,
   "id": "ae861842-a87a-490c-a35e-c4c7ca81921e",
   "metadata": {
    "ExecuteTime": {
     "end_time": "2024-11-08T20:56:24.303454Z",
     "start_time": "2024-11-08T20:56:24.286613Z"
    }
   },
   "outputs": [],
   "source": [
    "tfidf_vectorizer = TfidfVectorizer(stop_words='english')"
   ]
  },
  {
   "cell_type": "code",
   "execution_count": 8,
   "id": "4af67fb99a2bc9a4",
   "metadata": {
    "ExecuteTime": {
     "end_time": "2024-11-08T20:56:24.334805Z",
     "start_time": "2024-11-08T20:56:24.304464Z"
    }
   },
   "outputs": [],
   "source": [
    "## FIXED ROW\n",
    "tfs = tfidf_vectorizer.fit_transform(chapters)"
   ]
  },
  {
   "cell_type": "code",
   "execution_count": 9,
   "id": "69ae1c47-c96d-4644-9b45-c4576a329ae3",
   "metadata": {
    "ExecuteTime": {
     "end_time": "2024-11-08T20:56:24.383241Z",
     "start_time": "2024-11-08T20:56:24.335828Z"
    }
   },
   "outputs": [
    {
     "name": "stderr",
     "output_type": "stream",
     "text": [
      "12it [00:00, 143.47it/s]\n"
     ]
    }
   ],
   "source": [
    "chapters_dict = {}\n",
    "for chapter_num, chapter in tqdm(enumerate(chapters)):\n",
    "    ### FIXED ROW BELOW\n",
    "    tfidf_matrix = tfidf_vectorizer.transform([chapter])\n",
    "    feature_names = tfidf_vectorizer.get_feature_names_out()\n",
    "    top_words = sorted(zip(feature_names, tfidf_matrix.toarray()[0]), key=lambda x: x[1], reverse=True)[:11]\n",
    "    chapters_dict[chapter_num + 1] = \", \".join([word for index, (word, score) in enumerate(top_words)\n",
    "                                                         if word != 'alice' and index < 11])"
   ]
  },
  {
   "cell_type": "code",
   "execution_count": 10,
   "id": "b8a3a9f631ab428e",
   "metadata": {
    "ExecuteTime": {
     "end_time": "2024-11-08T20:56:24.388859Z",
     "start_time": "2024-11-08T20:56:24.384258Z"
    }
   },
   "outputs": [
    {
     "data": {
      "text/plain": [
       "{1: 'wa, little, bat, door, key, eat, like, think, way, bottle',\n",
       " 2: 'mouse, wa, pool, little, oh, swam, cat, dear, said, foot',\n",
       " 3: 'mouse, said, dodo, wa, prize, lory, dry, thimble, know, bird',\n",
       " 4: 'wa, little, window, rabbit, puppy, glove, bottle, chimney, fan, said',\n",
       " 5: 'caterpillar, said, pigeon, serpent, wa, egg, youth, size, father, little',\n",
       " 6: 'said, cat, wa, footman, baby, mad, pig, duchess, wow, like',\n",
       " 7: 'hatter, dormouse, said, march, hare, wa, twinkle, time, tea, draw',\n",
       " 8: 'queen, said, wa, hedgehog, king, gardener, soldier, cat, executioner, procession',\n",
       " 9: 'turtle, said, mock, gryphon, duchess, moral, wa, queen, went, say',\n",
       " 10: 'turtle, mock, gryphon, said, dance, lobster, soup, join, beautiful, whiting',\n",
       " 11: 'king, hatter, said, court, dormouse, wa, witness, queen, juror, officer',\n",
       " 12: 'said, king, jury, queen, sister, dream, unimportant, wa, rabbit, fit'}"
      ]
     },
     "execution_count": 10,
     "metadata": {},
     "output_type": "execute_result"
    }
   ],
   "source": [
    "chapters_dict"
   ]
  },
  {
   "cell_type": "markdown",
   "id": "b2200ba8-f0b0-428e-ac69-208196e393fd",
   "metadata": {},
   "source": [
    "Honestly, my fantasy is working not so good, but I've tried to name the chapters.\n",
    "\n",
    "1. Thinking was like litte\n",
    "2. Oh, mouse was little\n",
    "3. Mouse said dodo\n",
    "4. There was one little rabbit\n",
    "5. Caterpillar, pigeon, serpent\n",
    "6. Duchees Cat\n",
    "7. Dormouse Hatter\n",
    "8. Queen and King\n",
    "9. Mock Turtle\n",
    "10. Gryphon Turtle\n",
    "11. Hatter King\n",
    "12. Jury King "
   ]
  },
  {
   "cell_type": "markdown",
   "id": "5d9d1b20-c464-452a-af49-fff97d2baf31",
   "metadata": {},
   "source": [
    "4. Find the Top 10 most used verbs in sentences with Alice"
   ]
  },
  {
   "cell_type": "code",
   "execution_count": 11,
   "id": "3c9fee0a-76f5-46eb-b833-4c8951833e4b",
   "metadata": {
    "ExecuteTime": {
     "end_time": "2024-11-08T20:56:24.395308Z",
     "start_time": "2024-11-08T20:56:24.390866Z"
    }
   },
   "outputs": [],
   "source": [
    "sentences = sent_tokenize(text)"
   ]
  },
  {
   "cell_type": "code",
   "execution_count": 12,
   "id": "c134e7fe-72a0-4db7-a350-7387be7583e7",
   "metadata": {
    "ExecuteTime": {
     "end_time": "2024-11-08T20:56:25.498228Z",
     "start_time": "2024-11-08T20:56:24.396316Z"
    }
   },
   "outputs": [],
   "source": [
    "url = \"http://www.gutenberg.org/files/11/11-0.txt\"\n",
    "response = requests.get(url)\n",
    "text = response.text\n",
    "sentences = sent_tokenize(text)"
   ]
  },
  {
   "cell_type": "code",
   "execution_count": 13,
   "id": "9ddde7c9-ba20-45d2-884b-707d7bec3a41",
   "metadata": {
    "ExecuteTime": {
     "end_time": "2024-11-08T20:56:25.860079Z",
     "start_time": "2024-11-08T20:56:25.499236Z"
    }
   },
   "outputs": [],
   "source": [
    "sentences = list(map(preprocessing, sentences))    \n",
    "sentences = list(map(lambda x: x.replace('.', ' '), sentences))    "
   ]
  },
  {
   "cell_type": "code",
   "execution_count": 14,
   "id": "35f2e8da-5ad1-470f-ba1e-e1ec73eb0303",
   "metadata": {
    "ExecuteTime": {
     "end_time": "2024-11-08T20:56:25.865704Z",
     "start_time": "2024-11-08T20:56:25.861597Z"
    }
   },
   "outputs": [],
   "source": [
    "alice_sentences = [sentence for sentence in sentences if 'alice' in sentence.lower()]"
   ]
  },
  {
   "cell_type": "code",
   "execution_count": 15,
   "id": "4d70c2ef-4e32-4011-84c9-8b88072b8470",
   "metadata": {
    "ExecuteTime": {
     "end_time": "2024-11-08T20:56:25.882587Z",
     "start_time": "2024-11-08T20:56:25.866308Z"
    }
   },
   "outputs": [],
   "source": [
    "verb_counts = Counter()"
   ]
  },
  {
   "cell_type": "code",
   "execution_count": 20,
   "id": "db9a495a-06be-46fb-b754-bdf8d50e4cda",
   "metadata": {
    "ExecuteTime": {
     "end_time": "2024-11-08T20:56:26.244735Z",
     "start_time": "2024-11-08T20:56:25.884597Z"
    }
   },
   "outputs": [
    {
     "data": {
      "application/vnd.jupyter.widget-view+json": {
       "model_id": "d5520af1bd1d4cffa9809956b5006e4d",
       "version_major": 2,
       "version_minor": 0
      },
      "text/plain": [
       "  0%|          | 0/360 [00:00<?, ?it/s]"
      ]
     },
     "metadata": {},
     "output_type": "display_data"
    }
   ],
   "source": [
    "for sentence in tqdm(alice_sentences):\n",
    "    for word, tag in nltk.pos_tag(sentence.split()):\n",
    "        if tag in ['VB', 'VBP']:\n",
    "            verb_counts[word] += 1\n",
    "\n",
    "top_verbs = verb_counts.most_common(10)"
   ]
  },
  {
   "cell_type": "code",
   "execution_count": 21,
   "id": "8bf3ccdf-d9fe-4e16-af1b-7c99cc3ae297",
   "metadata": {
    "ExecuteTime": {
     "end_time": "2024-11-08T20:56:26.252029Z",
     "start_time": "2024-11-08T20:56:26.246003Z"
    }
   },
   "outputs": [
    {
     "data": {
      "text/plain": [
       "[('say', 105),\n",
       " ('know', 96),\n",
       " ('go', 81),\n",
       " ('see', 69),\n",
       " ('think', 63),\n",
       " ('get', 51),\n",
       " ('make', 45),\n",
       " ('come', 42),\n",
       " ('take', 36),\n",
       " ('wa', 33)]"
      ]
     },
     "execution_count": 21,
     "metadata": {},
     "output_type": "execute_result"
    }
   ],
   "source": [
    "top_verbs"
   ]
  },
  {
   "cell_type": "markdown",
   "id": "811653b0-39ec-4aa3-a370-2ffcd08636f7",
   "metadata": {
    "ExecuteTime": {
     "end_time": "2024-10-20T19:56:35.653147Z",
     "start_time": "2024-10-20T19:56:35.651668Z"
    }
   },
   "source": [
    "What does Alice do most often?\n",
    "\n",
    "Alice thinks, knows, says, goes, and sees."
   ]
  }
 ],
 "metadata": {
  "kernelspec": {
   "display_name": "Python 3 (ipykernel)",
   "language": "python",
   "name": "python3"
  },
  "language_info": {
   "codemirror_mode": {
    "name": "ipython",
    "version": 3
   },
   "file_extension": ".py",
   "mimetype": "text/x-python",
   "name": "python",
   "nbconvert_exporter": "python",
   "pygments_lexer": "ipython3",
   "version": "3.12.1"
  }
 },
 "nbformat": 4,
 "nbformat_minor": 5
}
